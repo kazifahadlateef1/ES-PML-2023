{
 "cells": [
  {
   "cell_type": "code",
   "execution_count": 1,
   "id": "a0df9e9b",
   "metadata": {},
   "outputs": [
    {
     "name": "stdout",
     "output_type": "stream",
     "text": [
      "[1 2 3 4]\n"
     ]
    }
   ],
   "source": [
    "import numpy as np\n",
    "a=np.array([1,2,3,4])\n",
    "print(a)"
   ]
  },
  {
   "cell_type": "code",
   "execution_count": 2,
   "id": "9748ab35",
   "metadata": {},
   "outputs": [
    {
     "name": "stdout",
     "output_type": "stream",
     "text": [
      "[[1 2 3]\n",
      " [4 5 6]]\n"
     ]
    }
   ],
   "source": [
    "import numpy as np\n",
    "b=np.array([[1,2,3],[4,5,6]])\n",
    "print(b)"
   ]
  },
  {
   "cell_type": "code",
   "execution_count": 3,
   "id": "82a5f3c9",
   "metadata": {},
   "outputs": [
    {
     "data": {
      "text/plain": [
       "array([[0., 0., 0., 0.],\n",
       "       [0., 0., 0., 0.],\n",
       "       [0., 0., 0., 0.]])"
      ]
     },
     "execution_count": 3,
     "metadata": {},
     "output_type": "execute_result"
    }
   ],
   "source": [
    "import numpy as np\n",
    "np.zeros((3,4))"
   ]
  },
  {
   "cell_type": "code",
   "execution_count": 4,
   "id": "a67c25e8",
   "metadata": {},
   "outputs": [
    {
     "data": {
      "text/plain": [
       "array([[1, 2, 3],\n",
       "       [4, 5, 6]])"
      ]
     },
     "execution_count": 4,
     "metadata": {},
     "output_type": "execute_result"
    }
   ],
   "source": [
    "b"
   ]
  },
  {
   "cell_type": "code",
   "execution_count": 5,
   "id": "f078866f",
   "metadata": {},
   "outputs": [],
   "source": [
    "import numpy as np\n",
    "arr=np.ones((3,2))"
   ]
  },
  {
   "cell_type": "code",
   "execution_count": 6,
   "id": "7ed6ce8d",
   "metadata": {},
   "outputs": [
    {
     "data": {
      "text/plain": [
       "array([[1., 1.],\n",
       "       [1., 1.],\n",
       "       [1., 1.]])"
      ]
     },
     "execution_count": 6,
     "metadata": {},
     "output_type": "execute_result"
    }
   ],
   "source": [
    "arr"
   ]
  },
  {
   "cell_type": "code",
   "execution_count": 7,
   "id": "2bd5c9fc",
   "metadata": {},
   "outputs": [
    {
     "data": {
      "text/plain": [
       "array([1, 3, 5, 7, 9])"
      ]
     },
     "execution_count": 7,
     "metadata": {},
     "output_type": "execute_result"
    }
   ],
   "source": [
    "import numpy as np\n",
    "np.arange(1,10,2)"
   ]
  },
  {
   "cell_type": "code",
   "execution_count": 8,
   "id": "ad8fd85d",
   "metadata": {},
   "outputs": [
    {
     "data": {
      "text/plain": [
       "array([ 5.        ,  5.55555556,  6.11111111,  6.66666667,  7.22222222,\n",
       "        7.77777778,  8.33333333,  8.88888889,  9.44444444, 10.        ])"
      ]
     },
     "execution_count": 8,
     "metadata": {},
     "output_type": "execute_result"
    }
   ],
   "source": [
    "np.linspace(5,10,10)"
   ]
  },
  {
   "cell_type": "code",
   "execution_count": 9,
   "id": "9d2a9ab8",
   "metadata": {},
   "outputs": [
    {
     "data": {
      "text/plain": [
       "array([ 0.,  2.,  4.,  6.,  8., 10.])"
      ]
     },
     "execution_count": 9,
     "metadata": {},
     "output_type": "execute_result"
    }
   ],
   "source": [
    "np.linspace(0,10,6)"
   ]
  },
  {
   "cell_type": "code",
   "execution_count": 10,
   "id": "b2d12257",
   "metadata": {},
   "outputs": [],
   "source": [
    "arr=np.full((4,5),2)"
   ]
  },
  {
   "cell_type": "code",
   "execution_count": 11,
   "id": "047aa97e",
   "metadata": {},
   "outputs": [
    {
     "data": {
      "text/plain": [
       "array([[2, 2, 2, 2, 2],\n",
       "       [2, 2, 2, 2, 2],\n",
       "       [2, 2, 2, 2, 2],\n",
       "       [2, 2, 2, 2, 2]])"
      ]
     },
     "execution_count": 11,
     "metadata": {},
     "output_type": "execute_result"
    }
   ],
   "source": [
    "arr"
   ]
  },
  {
   "cell_type": "code",
   "execution_count": 12,
   "id": "ddf7fe39",
   "metadata": {},
   "outputs": [
    {
     "data": {
      "text/plain": [
       "array([[2.8, 2.8, 2.8, 2.8, 2.8],\n",
       "       [2.8, 2.8, 2.8, 2.8, 2.8],\n",
       "       [2.8, 2.8, 2.8, 2.8, 2.8],\n",
       "       [2.8, 2.8, 2.8, 2.8, 2.8]])"
      ]
     },
     "execution_count": 12,
     "metadata": {},
     "output_type": "execute_result"
    }
   ],
   "source": [
    "arr=np.full((4,5),2.8)\n",
    "arr"
   ]
  },
  {
   "cell_type": "code",
   "execution_count": 13,
   "id": "496f1e5a",
   "metadata": {},
   "outputs": [
    {
     "data": {
      "text/plain": [
       "array([[0.23321699, 0.627799  , 0.56411609],\n",
       "       [0.40794863, 0.44129411, 0.13594625]])"
      ]
     },
     "execution_count": 13,
     "metadata": {},
     "output_type": "execute_result"
    }
   ],
   "source": [
    "np.random.random((2,3))"
   ]
  },
  {
   "cell_type": "code",
   "execution_count": 15,
   "id": "6897883d",
   "metadata": {},
   "outputs": [
    {
     "name": "stdout",
     "output_type": "stream",
     "text": [
      "(2, 3)\n"
     ]
    }
   ],
   "source": [
    "a=np.array([[2,3,4],[4,4,6]])\n",
    "print(a.shape)"
   ]
  },
  {
   "cell_type": "code",
   "execution_count": 1,
   "id": "6a1e7133",
   "metadata": {},
   "outputs": [],
   "source": [
    "#20 minutte video run hoiche class 13(numpy theory)\n"
   ]
  },
  {
   "cell_type": "code",
   "execution_count": 3,
   "id": "2e963022",
   "metadata": {},
   "outputs": [
    {
     "name": "stdout",
     "output_type": "stream",
     "text": [
      "(3, 4)\n"
     ]
    }
   ],
   "source": [
    "import numpy as np\n",
    "s=np.array([[1,2,3,4],[2,3,4,5],[6,7,8,9]])\n",
    "print(s.shape)"
   ]
  },
  {
   "cell_type": "code",
   "execution_count": 4,
   "id": "463d5aa5",
   "metadata": {},
   "outputs": [],
   "source": [
    "a=np.array([[2,3,4,4],[2,4,5,6]])\n",
    "b=np.array([[2,3,4],[4,4,6]])"
   ]
  },
  {
   "cell_type": "code",
   "execution_count": 6,
   "id": "ff058cab",
   "metadata": {},
   "outputs": [
    {
     "name": "stdout",
     "output_type": "stream",
     "text": [
      "[[2 3]\n",
      " [4 4]\n",
      " [4 6]]\n"
     ]
    }
   ],
   "source": [
    "b.shape=(3,2)\n",
    "print(b)"
   ]
  },
  {
   "cell_type": "code",
   "execution_count": 7,
   "id": "9762cebd",
   "metadata": {},
   "outputs": [
    {
     "name": "stdout",
     "output_type": "stream",
     "text": [
      "[[2]\n",
      " [3]\n",
      " [4]\n",
      " [4]\n",
      " [2]\n",
      " [4]\n",
      " [5]\n",
      " [6]]\n"
     ]
    }
   ],
   "source": [
    "a.shape=(8,1)\n",
    "print(a)"
   ]
  },
  {
   "cell_type": "code",
   "execution_count": 8,
   "id": "d71f8cfc",
   "metadata": {},
   "outputs": [],
   "source": [
    "a=np.arange(25)"
   ]
  },
  {
   "cell_type": "code",
   "execution_count": 9,
   "id": "f0fa7da4",
   "metadata": {},
   "outputs": [
    {
     "data": {
      "text/plain": [
       "array([ 0,  1,  2,  3,  4,  5,  6,  7,  8,  9, 10, 11, 12, 13, 14, 15, 16,\n",
       "       17, 18, 19, 20, 21, 22, 23, 24])"
      ]
     },
     "execution_count": 9,
     "metadata": {},
     "output_type": "execute_result"
    }
   ],
   "source": [
    "a"
   ]
  },
  {
   "cell_type": "code",
   "execution_count": 10,
   "id": "726c433e",
   "metadata": {},
   "outputs": [
    {
     "name": "stdout",
     "output_type": "stream",
     "text": [
      "25\n"
     ]
    }
   ],
   "source": [
    "print(a.size)"
   ]
  },
  {
   "cell_type": "code",
   "execution_count": 12,
   "id": "9c579c51",
   "metadata": {},
   "outputs": [
    {
     "data": {
      "text/plain": [
       "12"
      ]
     },
     "execution_count": 12,
     "metadata": {},
     "output_type": "execute_result"
    }
   ],
   "source": [
    "d=np.array([[1,2,3,4],[2,3,4,5],[6,7,8,9]])\n",
    "d.size"
   ]
  },
  {
   "cell_type": "code",
   "execution_count": 14,
   "id": "32ab14e0",
   "metadata": {},
   "outputs": [
    {
     "name": "stdout",
     "output_type": "stream",
     "text": [
      "float64\n"
     ]
    },
    {
     "data": {
      "text/plain": [
       "array([ 0.,  1.,  2.,  3.,  4.,  5.,  6.,  7.,  8.,  9., 10., 11., 12.,\n",
       "       13., 14., 15., 16., 17., 18., 19., 20., 21., 22., 23.])"
      ]
     },
     "execution_count": 14,
     "metadata": {},
     "output_type": "execute_result"
    }
   ],
   "source": [
    "a=np.arange(24,dtype=float)\n",
    "print(a.dtype)\n",
    "a"
   ]
  },
  {
   "cell_type": "code",
   "execution_count": 15,
   "id": "c07de09c",
   "metadata": {},
   "outputs": [
    {
     "data": {
      "text/plain": [
       "30"
      ]
     },
     "execution_count": 15,
     "metadata": {},
     "output_type": "execute_result"
    }
   ],
   "source": [
    "np.sum([10,20])"
   ]
  },
  {
   "cell_type": "code",
   "execution_count": 17,
   "id": "1b87b399",
   "metadata": {},
   "outputs": [
    {
     "data": {
      "text/plain": [
       "30"
      ]
     },
     "execution_count": 17,
     "metadata": {},
     "output_type": "execute_result"
    }
   ],
   "source": [
    "a,b=10,20\n",
    "np.sum([a,b])"
   ]
  },
  {
   "cell_type": "code",
   "execution_count": 18,
   "id": "3d0b9ba8",
   "metadata": {},
   "outputs": [
    {
     "data": {
      "text/plain": [
       "array([6, 8])"
      ]
     },
     "execution_count": 18,
     "metadata": {},
     "output_type": "execute_result"
    }
   ],
   "source": [
    "#axis 0 hole index wise\n",
    "np.sum([[1,2],[5,6]],axis=0)"
   ]
  },
  {
   "cell_type": "code",
   "execution_count": 19,
   "id": "bf2c67e8",
   "metadata": {},
   "outputs": [
    {
     "data": {
      "text/plain": [
       "array([ 3, 11])"
      ]
     },
     "execution_count": 19,
     "metadata": {},
     "output_type": "execute_result"
    }
   ],
   "source": [
    "#list wise sum axis 1\n",
    "np.sum([[1,2],[5,6]],axis=1)\n"
   ]
  },
  {
   "cell_type": "code",
   "execution_count": 20,
   "id": "4283a8e9",
   "metadata": {},
   "outputs": [
    {
     "data": {
      "text/plain": [
       "14"
      ]
     },
     "execution_count": 20,
     "metadata": {},
     "output_type": "execute_result"
    }
   ],
   "source": [
    "np.sum([[1,2],[5,6]])"
   ]
  },
  {
   "cell_type": "code",
   "execution_count": 22,
   "id": "b629102d",
   "metadata": {},
   "outputs": [
    {
     "data": {
      "text/plain": [
       "-10"
      ]
     },
     "execution_count": 22,
     "metadata": {},
     "output_type": "execute_result"
    }
   ],
   "source": [
    "np.subtract(10,20 )"
   ]
  },
  {
   "cell_type": "raw",
   "id": "1b6522a1",
   "metadata": {},
   "source": [
    "np.multiply(2,3)"
   ]
  },
  {
   "cell_type": "code",
   "execution_count": 23,
   "id": "e2742b01",
   "metadata": {},
   "outputs": [
    {
     "data": {
      "text/plain": [
       "6"
      ]
     },
     "execution_count": 23,
     "metadata": {},
     "output_type": "execute_result"
    }
   ],
   "source": [
    "np.multiply(2,3)"
   ]
  },
  {
   "cell_type": "code",
   "execution_count": 24,
   "id": "9c1744fc",
   "metadata": {},
   "outputs": [
    {
     "data": {
      "text/plain": [
       "5.0"
      ]
     },
     "execution_count": 24,
     "metadata": {},
     "output_type": "execute_result"
    }
   ],
   "source": [
    "np.divide(10,2)"
   ]
  },
  {
   "cell_type": "code",
   "execution_count": 25,
   "id": "3761cbec",
   "metadata": {},
   "outputs": [
    {
     "data": {
      "text/plain": [
       "array([ 2,  8, 18])"
      ]
     },
     "execution_count": 25,
     "metadata": {},
     "output_type": "execute_result"
    }
   ],
   "source": [
    "a=np.array([2,4,6])\n",
    "b=np.array([1,2,3])\n",
    "np.multiply(a,b )"
   ]
  },
  {
   "cell_type": "code",
   "execution_count": 26,
   "id": "f924e018",
   "metadata": {},
   "outputs": [
    {
     "name": "stdout",
     "output_type": "stream",
     "text": [
      "Expotnet :  [  7.3890561   54.59815003 403.42879349]\n",
      "Square root :  [1.41421356 2.         2.44948974]\n",
      "Sin:  [ 0.90929743 -0.7568025  -0.2794155 ]\n",
      "Cos;  [-0.41614684 -0.65364362  0.96017029]\n",
      "Log :  [0.69314718 1.38629436 1.79175947]\n"
     ]
    }
   ],
   "source": [
    "print(\"Expotnet : \",np.exp(a))\n",
    "print(\"Square root : \",np.sqrt(a))\n",
    "print(\"Sin: \",np.sin(a))\n",
    "print(\"Cos; \",np.cos(a))\n",
    "print(\"Log : \",np.log(a))"
   ]
  },
  {
   "cell_type": "code",
   "execution_count": 27,
   "id": "2014dfbf",
   "metadata": {},
   "outputs": [],
   "source": [
    "a=[1,2,4]\n",
    "b=[2,4,4]\n",
    "c=[1,2,4]"
   ]
  },
  {
   "cell_type": "code",
   "execution_count": 28,
   "id": "50bbfd88",
   "metadata": {},
   "outputs": [
    {
     "data": {
      "text/plain": [
       "array([False, False,  True])"
      ]
     },
     "execution_count": 28,
     "metadata": {},
     "output_type": "execute_result"
    }
   ],
   "source": [
    "np.equal(a,b)"
   ]
  },
  {
   "cell_type": "code",
   "execution_count": 29,
   "id": "a0641ef3",
   "metadata": {},
   "outputs": [
    {
     "data": {
      "text/plain": [
       "True"
      ]
     },
     "execution_count": 29,
     "metadata": {},
     "output_type": "execute_result"
    }
   ],
   "source": [
    "np.array_equal(a,c)"
   ]
  },
  {
   "cell_type": "code",
   "execution_count": 30,
   "id": "050edd78",
   "metadata": {},
   "outputs": [
    {
     "data": {
      "text/plain": [
       "False"
      ]
     },
     "execution_count": 30,
     "metadata": {},
     "output_type": "execute_result"
    }
   ],
   "source": [
    "np.array_equal(a,b)"
   ]
  },
  {
   "cell_type": "code",
   "execution_count": 32,
   "id": "174bb027",
   "metadata": {},
   "outputs": [
    {
     "name": "stdout",
     "output_type": "stream",
     "text": [
      "Sum :  7\n",
      "Minimum Value :  1\n",
      "Mean :  2.3333333333333335\n",
      "Median :  2.0\n",
      "Coorelation Coefficient :  1.0\n",
      "Standard  :  1.247219128924647\n"
     ]
    }
   ],
   "source": [
    "a=[1,2,4]\n",
    "b=[2,4,4]\n",
    "c=[1,2,4]\n",
    "print(\"Sum : \",np.sum(a))\n",
    "print(\"Minimum Value : \",np.min(a))\n",
    "print(\"Mean : \",np.mean(a))\n",
    "print(\"Median : \",np.median(a))\n",
    "print(\"Coorelation Coefficient : \",np.corrcoef(a))\n",
    "print(\"Standard  : \",np.std(a))\n"
   ]
  },
  {
   "cell_type": "code",
   "execution_count": 33,
   "id": "dbe9fc66",
   "metadata": {},
   "outputs": [
    {
     "name": "stdout",
     "output_type": "stream",
     "text": [
      "First array :\n",
      " [[0 0 0]\n",
      " [1 2 3]\n",
      " [4 5 6]\n",
      " [5 6 7]] \n",
      "\n",
      "second array : \n",
      " [[0 1 2]] \n",
      "\n",
      "First array + Second Array : \n",
      " [[0 1 2]\n",
      " [1 3 5]\n",
      " [4 6 8]\n",
      " [5 7 9]] \n",
      "\n",
      "\n"
     ]
    }
   ],
   "source": [
    "import numpy as np\n",
    "a=np.array([[0,0,0],[1,2,3],[4,5,6],[5,6,7]])\n",
    "b=np.array([[0,1,2]])\n",
    "print(\"First array :\\n\",a,'\\n')\n",
    "print(\"second array : \\n\",b,'\\n')\n",
    "print(\"First array + Second Array : \\n\",a+b,'\\n\\n')"
   ]
  },
  {
   "cell_type": "code",
   "execution_count": 34,
   "id": "5eae2ee2",
   "metadata": {},
   "outputs": [
    {
     "data": {
      "text/plain": [
       "['n', 't', 'y', ' ', 'p', 'y', 't']"
      ]
     },
     "execution_count": 34,
     "metadata": {},
     "output_type": "execute_result"
    }
   ],
   "source": [
    "a=['m','o','n','t','y',' ','p','y','t','h','o','n',]\n",
    "a[2:9]"
   ]
  },
  {
   "cell_type": "code",
   "execution_count": 35,
   "id": "4af2070d",
   "metadata": {},
   "outputs": [
    {
     "data": {
      "text/plain": [
       "array([1, 2, 3])"
      ]
     },
     "execution_count": 35,
     "metadata": {},
     "output_type": "execute_result"
    }
   ],
   "source": [
    "a=np.array([[1,2,3],[4,5,6],[7,8,9]])\n",
    "a[0]"
   ]
  },
  {
   "cell_type": "code",
   "execution_count": 36,
   "id": "2c742f98",
   "metadata": {},
   "outputs": [
    {
     "data": {
      "text/plain": [
       "array([[1, 2, 3]])"
      ]
     },
     "execution_count": 36,
     "metadata": {},
     "output_type": "execute_result"
    }
   ],
   "source": [
    "a[:1]"
   ]
  },
  {
   "cell_type": "code",
   "execution_count": 37,
   "id": "d3842e82",
   "metadata": {},
   "outputs": [
    {
     "name": "stdout",
     "output_type": "stream",
     "text": [
      "[[1 2 3]\n",
      " [4 5 6]\n",
      " [7 8 9]]\n"
     ]
    }
   ],
   "source": [
    "print(a)"
   ]
  },
  {
   "cell_type": "code",
   "execution_count": 38,
   "id": "b99c5bbb",
   "metadata": {},
   "outputs": [
    {
     "data": {
      "text/plain": [
       "array([[2, 3]])"
      ]
     },
     "execution_count": 38,
     "metadata": {},
     "output_type": "execute_result"
    }
   ],
   "source": [
    "a[:1,1:]"
   ]
  },
  {
   "cell_type": "code",
   "execution_count": 39,
   "id": "0151135f",
   "metadata": {},
   "outputs": [
    {
     "data": {
      "text/plain": [
       "array([[2, 3],\n",
       "       [5, 6]])"
      ]
     },
     "execution_count": 39,
     "metadata": {},
     "output_type": "execute_result"
    }
   ],
   "source": [
    "a[:2,1:] "
   ]
  },
  {
   "cell_type": "code",
   "execution_count": 40,
   "id": "3119951a",
   "metadata": {},
   "outputs": [
    {
     "data": {
      "text/plain": [
       "array([2, 3])"
      ]
     },
     "execution_count": 40,
     "metadata": {},
     "output_type": "execute_result"
    }
   ],
   "source": [
    "a[:1][0][1:]"
   ]
  },
  {
   "cell_type": "code",
   "execution_count": 41,
   "id": "2394ee1a",
   "metadata": {},
   "outputs": [
    {
     "data": {
      "text/plain": [
       "array([1, 2, 3, 4, 5, 6])"
      ]
     },
     "execution_count": 41,
     "metadata": {},
     "output_type": "execute_result"
    }
   ],
   "source": [
    "a=np.array([1,2,3])\n",
    "b=np.array([4,5,6])\n",
    "np.concatenate((a,b))"
   ]
  },
  {
   "cell_type": "code",
   "execution_count": 42,
   "id": "e51e1569",
   "metadata": {},
   "outputs": [
    {
     "data": {
      "text/plain": [
       "array([1, 2, 3, 4, 5, 6])"
      ]
     },
     "execution_count": 42,
     "metadata": {},
     "output_type": "execute_result"
    }
   ],
   "source": [
    "np.hstack((a,b))"
   ]
  },
  {
   "cell_type": "code",
   "execution_count": 44,
   "id": "1f97556a",
   "metadata": {},
   "outputs": [
    {
     "data": {
      "text/plain": [
       "array([[1, 2, 3],\n",
       "       [4, 5, 6]])"
      ]
     },
     "execution_count": 44,
     "metadata": {},
     "output_type": "execute_result"
    }
   ],
   "source": [
    "np.vstack((a,b))"
   ]
  },
  {
   "cell_type": "code",
   "execution_count": 45,
   "id": "e35cb192",
   "metadata": {},
   "outputs": [
    {
     "data": {
      "text/plain": [
       "array([[1, 4],\n",
       "       [2, 5],\n",
       "       [3, 6]])"
      ]
     },
     "execution_count": 45,
     "metadata": {},
     "output_type": "execute_result"
    }
   ],
   "source": [
    "np.column_stack((a,b))"
   ]
  },
  {
   "cell_type": "code",
   "execution_count": 48,
   "id": "5f62c41f",
   "metadata": {},
   "outputs": [
    {
     "name": "stdout",
     "output_type": "stream",
     "text": [
      "[[ 0  1  2  3]\n",
      " [ 4  5  6  7]\n",
      " [ 8  9 10 11]\n",
      " [12 13 14 15]] \n",
      "\n",
      "\n",
      "[array([[ 0,  1],\n",
      "       [ 4,  5],\n",
      "       [ 8,  9],\n",
      "       [12, 13]]), array([[ 2,  3],\n",
      "       [ 6,  7],\n",
      "       [10, 11],\n",
      "       [14, 15]])]\n",
      "\n",
      "\n",
      " [array([[ 0,  1],\n",
      "       [ 4,  5],\n",
      "       [ 8,  9],\n",
      "       [12, 13]]), array([[ 2],\n",
      "       [ 6],\n",
      "       [10],\n",
      "       [14]]), array([[ 3],\n",
      "       [ 7],\n",
      "       [11],\n",
      "       [15]])]\n"
     ]
    }
   ],
   "source": [
    "x=np.arange(16).reshape(4,4)\n",
    "print(x,\"\\n\\n\")\n",
    "print(np.hsplit(x,2))\n",
    "print(\"\\n\\n\",np.hsplit(x,np.array([2,3])))"
   ]
  },
  {
   "cell_type": "code",
   "execution_count": 50,
   "id": "843fa0de",
   "metadata": {},
   "outputs": [
    {
     "name": "stdout",
     "output_type": "stream",
     "text": [
      "Size of a list :  28000\n",
      "Size of an array :  4000\n"
     ]
    }
   ],
   "source": [
    "import numpy as np\n",
    "import sys\n",
    "\n",
    "l=range(1000)\n",
    "print(\"Size of a list : \",sys.getsizeof(1)*len(l))\n",
    "\n",
    "a=np.arange(1000)\n",
    "print(\"Size of an array : \",a.size*a.itemsize)"
   ]
  },
  {
   "cell_type": "code",
   "execution_count": 52,
   "id": "fd676e48",
   "metadata": {},
   "outputs": [
    {
     "name": "stdout",
     "output_type": "stream",
     "text": [
      "0.002481222152709961 0.0\n"
     ]
    },
    {
     "ename": "ZeroDivisionError",
     "evalue": "float division by zero",
     "output_type": "error",
     "traceback": [
      "\u001b[1;31m---------------------------------------------------------------------------\u001b[0m",
      "\u001b[1;31mZeroDivisionError\u001b[0m                         Traceback (most recent call last)",
      "\u001b[1;32m~\\AppData\\Local\\Temp\\ipykernel_8456\\1707078379.py\u001b[0m in \u001b[0;36m<module>\u001b[1;34m\u001b[0m\n\u001b[0;32m     17\u001b[0m \u001b[0mnumpy_time\u001b[0m\u001b[1;33m=\u001b[0m \u001b[0musing_Numpy\u001b[0m\u001b[1;33m(\u001b[0m\u001b[1;33m)\u001b[0m\u001b[1;33m\u001b[0m\u001b[1;33m\u001b[0m\u001b[0m\n\u001b[0;32m     18\u001b[0m \u001b[0mprint\u001b[0m\u001b[1;33m(\u001b[0m\u001b[0mlist_time\u001b[0m\u001b[1;33m,\u001b[0m\u001b[0mnumpy_time\u001b[0m\u001b[1;33m)\u001b[0m\u001b[1;33m\u001b[0m\u001b[1;33m\u001b[0m\u001b[0m\n\u001b[1;32m---> 19\u001b[1;33m \u001b[0mprint\u001b[0m\u001b[1;33m(\u001b[0m\u001b[1;34m\"In this example Nymoy is \"\u001b[0m\u001b[1;33m+\u001b[0m\u001b[0mstr\u001b[0m\u001b[1;33m(\u001b[0m\u001b[0mlist_time\u001b[0m\u001b[1;33m/\u001b[0m\u001b[0mnumpy_time\u001b[0m\u001b[1;33m)\u001b[0m\u001b[1;33m+\u001b[0m\u001b[1;34m\" times \"\u001b[0m\u001b[1;33m)\u001b[0m\u001b[1;33m\u001b[0m\u001b[1;33m\u001b[0m\u001b[0m\n\u001b[0m",
      "\u001b[1;31mZeroDivisionError\u001b[0m: float division by zero"
     ]
    }
   ],
   "source": [
    "import time\n",
    "def using_List():\n",
    "    t1=time.time()\n",
    "    x=range(10000)\n",
    "    y=range(10000)\n",
    "    z=[x[i]+y[i] for i in range(len(x))]\n",
    "    return time.time()-t1\n",
    "\n",
    "def using_Numpy():\n",
    "    t1=time.time()\n",
    "    a=np.arange(10000)\n",
    "    b=np.arange(10000)\n",
    "    z=a+b\n",
    "    return time.time()-t1\n",
    "\n",
    "list_time=using_List()\n",
    "numpy_time= using_Numpy()\n",
    "print(list_time,numpy_time)\n",
    "print(\"In this example Nymoy is \"+str(list_time/numpy_time)+\" times \")"
   ]
  },
  {
   "cell_type": "code",
   "execution_count": null,
   "id": "1f6442fb",
   "metadata": {},
   "outputs": [],
   "source": [
    "#class 14 time 36 minutes"
   ]
  }
 ],
 "metadata": {
  "kernelspec": {
   "display_name": "Python 3 (ipykernel)",
   "language": "python",
   "name": "python3"
  },
  "language_info": {
   "codemirror_mode": {
    "name": "ipython",
    "version": 3
   },
   "file_extension": ".py",
   "mimetype": "text/x-python",
   "name": "python",
   "nbconvert_exporter": "python",
   "pygments_lexer": "ipython3",
   "version": "3.9.13"
  }
 },
 "nbformat": 4,
 "nbformat_minor": 5
}

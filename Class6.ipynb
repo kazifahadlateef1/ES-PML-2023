{
 "cells": [
  {
   "cell_type": "code",
   "execution_count": 5,
   "id": "813064a5",
   "metadata": {},
   "outputs": [
    {
     "data": {
      "text/plain": [
       "16"
      ]
     },
     "execution_count": 5,
     "metadata": {},
     "output_type": "execute_result"
    }
   ],
   "source": [
    "def square(n):\n",
    "    return n**2\n",
    "\n",
    "def square1(n):\n",
    "    return n**2\n",
    "\n",
    "square(4)"
   ]
  },
  {
   "cell_type": "code",
   "execution_count": 6,
   "id": "2d7ca207",
   "metadata": {},
   "outputs": [
    {
     "data": {
      "text/plain": [
       "16"
      ]
     },
     "execution_count": 6,
     "metadata": {},
     "output_type": "execute_result"
    }
   ],
   "source": [
    "square(4)"
   ]
  },
  {
   "cell_type": "code",
   "execution_count": 7,
   "id": "ad4e02d7",
   "metadata": {},
   "outputs": [],
   "source": [
    "a=square(4)"
   ]
  },
  {
   "cell_type": "code",
   "execution_count": 8,
   "id": "6be35bcd",
   "metadata": {},
   "outputs": [
    {
     "data": {
      "text/plain": [
       "16"
      ]
     },
     "execution_count": 8,
     "metadata": {},
     "output_type": "execute_result"
    }
   ],
   "source": [
    "a"
   ]
  },
  {
   "cell_type": "code",
   "execution_count": 9,
   "id": "440db98b",
   "metadata": {},
   "outputs": [],
   "source": [
    "b=square1(4)"
   ]
  },
  {
   "cell_type": "code",
   "execution_count": 10,
   "id": "3cb46b5e",
   "metadata": {},
   "outputs": [
    {
     "data": {
      "text/plain": [
       "16"
      ]
     },
     "execution_count": 10,
     "metadata": {},
     "output_type": "execute_result"
    }
   ],
   "source": [
    "b"
   ]
  },
  {
   "cell_type": "code",
   "execution_count": 38,
   "id": "5af79259",
   "metadata": {},
   "outputs": [
    {
     "data": {
      "text/plain": [
       "'234'"
      ]
     },
     "execution_count": 38,
     "metadata": {},
     "output_type": "execute_result"
    }
   ],
   "source": [
    "input(n)"
   ]
  },
  {
   "cell_type": "code",
   "execution_count": 39,
   "id": "6deb9e9a",
   "metadata": {},
   "outputs": [],
   "source": [
    "n='234'"
   ]
  },
  {
   "cell_type": "code",
   "execution_count": 40,
   "id": "4aa99f1f",
   "metadata": {},
   "outputs": [],
   "source": [
    "#string"
   ]
  },
  {
   "cell_type": "code",
   "execution_count": 41,
   "id": "705a11d2",
   "metadata": {},
   "outputs": [],
   "source": [
    "s='Hello world fahad'"
   ]
  },
  {
   "cell_type": "code",
   "execution_count": 42,
   "id": "fedff39e",
   "metadata": {},
   "outputs": [
    {
     "data": {
      "text/plain": [
       "'H'"
      ]
     },
     "execution_count": 42,
     "metadata": {},
     "output_type": "execute_result"
    }
   ],
   "source": [
    "s[0]"
   ]
  },
  {
   "cell_type": "code",
   "execution_count": 43,
   "id": "7a2b8a9c",
   "metadata": {},
   "outputs": [
    {
     "data": {
      "text/plain": [
       "['Hello', 'world', 'fahad']"
      ]
     },
     "execution_count": 43,
     "metadata": {},
     "output_type": "execute_result"
    }
   ],
   "source": [
    "s.split()"
   ]
  },
  {
   "cell_type": "code",
   "execution_count": 44,
   "id": "1476550a",
   "metadata": {},
   "outputs": [
    {
     "data": {
      "text/plain": [
       "['Hell', ' w', 'rld fahad']"
      ]
     },
     "execution_count": 44,
     "metadata": {},
     "output_type": "execute_result"
    }
   ],
   "source": [
    "s.split('o')"
   ]
  },
  {
   "cell_type": "code",
   "execution_count": 49,
   "id": "1d3ab287",
   "metadata": {},
   "outputs": [],
   "source": [
    "h='Hell,  w, rld fahad'"
   ]
  },
  {
   "cell_type": "code",
   "execution_count": 50,
   "id": "bfeb35a1",
   "metadata": {},
   "outputs": [
    {
     "data": {
      "text/plain": [
       "['Hell', '  w', ' rld fahad']"
      ]
     },
     "execution_count": 50,
     "metadata": {},
     "output_type": "execute_result"
    }
   ],
   "source": [
    "h.split(',')"
   ]
  },
  {
   "cell_type": "code",
   "execution_count": 48,
   "id": "d040ca55",
   "metadata": {},
   "outputs": [
    {
     "data": {
      "text/plain": [
       "3"
      ]
     },
     "execution_count": 48,
     "metadata": {},
     "output_type": "execute_result"
    }
   ],
   "source": [
    "len(s.split())"
   ]
  },
  {
   "cell_type": "code",
   "execution_count": 53,
   "id": "3a443fc3",
   "metadata": {},
   "outputs": [
    {
     "data": {
      "text/plain": [
       "['Hello w', 'ld fahad']"
      ]
     },
     "execution_count": 53,
     "metadata": {},
     "output_type": "execute_result"
    }
   ],
   "source": [
    "s.split('or')"
   ]
  },
  {
   "cell_type": "code",
   "execution_count": 54,
   "id": "a08c7f69",
   "metadata": {},
   "outputs": [],
   "source": [
    "h='hello gello mello sello'"
   ]
  },
  {
   "cell_type": "code",
   "execution_count": 61,
   "id": "bf68ff2c",
   "metadata": {},
   "outputs": [
    {
     "data": {
      "text/plain": [
       "['he', ' ge', ' me', ' se', '']"
      ]
     },
     "execution_count": 61,
     "metadata": {},
     "output_type": "execute_result"
    }
   ],
   "source": [
    "list1=h.split('llo')\n",
    "list1"
   ]
  },
  {
   "cell_type": "code",
   "execution_count": 62,
   "id": "3ae5157c",
   "metadata": {},
   "outputs": [],
   "source": [
    "k='llo'"
   ]
  },
  {
   "cell_type": "code",
   "execution_count": 63,
   "id": "ee0a7f80",
   "metadata": {},
   "outputs": [
    {
     "data": {
      "text/plain": [
       "'lhello gello mello sellolhello gello mello selloo'"
      ]
     },
     "execution_count": 63,
     "metadata": {},
     "output_type": "execute_result"
    }
   ],
   "source": [
    "h.join(k)"
   ]
  },
  {
   "cell_type": "code",
   "execution_count": 68,
   "id": "3c1e6c99",
   "metadata": {},
   "outputs": [
    {
     "ename": "NameError",
     "evalue": "name 'q' is not defined",
     "output_type": "error",
     "traceback": [
      "\u001b[1;31m---------------------------------------------------------------------------\u001b[0m",
      "\u001b[1;31mNameError\u001b[0m                                 Traceback (most recent call last)",
      "\u001b[1;32m~\\AppData\\Local\\Temp\\ipykernel_14348\\2044696608.py\u001b[0m in \u001b[0;36m<module>\u001b[1;34m\u001b[0m\n\u001b[1;32m----> 1\u001b[1;33m \u001b[0mq\u001b[0m\u001b[1;33m\u001b[0m\u001b[1;33m\u001b[0m\u001b[0m\n\u001b[0m",
      "\u001b[1;31mNameError\u001b[0m: name 'q' is not defined"
     ]
    }
   ],
   "source": [
    "q"
   ]
  },
  {
   "cell_type": "code",
   "execution_count": 72,
   "id": "6b8c4f2a",
   "metadata": {},
   "outputs": [],
   "source": [
    "q = input(\"\")"
   ]
  },
  {
   "cell_type": "code",
   "execution_count": 73,
   "id": "05f41ff7",
   "metadata": {},
   "outputs": [
    {
     "data": {
      "text/plain": [
       "str"
      ]
     },
     "execution_count": 73,
     "metadata": {},
     "output_type": "execute_result"
    }
   ],
   "source": [
    "type(q)"
   ]
  },
  {
   "cell_type": "code",
   "execution_count": null,
   "id": "012c5dfd",
   "metadata": {},
   "outputs": [],
   "source": []
  }
 ],
 "metadata": {
  "kernelspec": {
   "display_name": "Python 3 (ipykernel)",
   "language": "python",
   "name": "python3"
  },
  "language_info": {
   "codemirror_mode": {
    "name": "ipython",
    "version": 3
   },
   "file_extension": ".py",
   "mimetype": "text/x-python",
   "name": "python",
   "nbconvert_exporter": "python",
   "pygments_lexer": "ipython3",
   "version": "3.9.13"
  }
 },
 "nbformat": 4,
 "nbformat_minor": 5
}

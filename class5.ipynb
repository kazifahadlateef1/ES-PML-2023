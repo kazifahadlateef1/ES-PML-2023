{
 "cells": [
  {
   "cell_type": "code",
   "execution_count": 1,
   "id": "df171dee",
   "metadata": {},
   "outputs": [],
   "source": [
    "list1 = [4,6,9,3,5]\n",
    "list2=[]\n",
    "for element in list1:\n",
    "    if element%2==0:\n",
    "        index_element = list1.index(element)\n",
    "        list2.append(element)\n",
    "        list1[index_element]=element**2\n",
    "    else:\n",
    "        index_element=list1.index(element)\n",
    "        list1[index_element]=element*2"
   ]
  },
  {
   "cell_type": "code",
   "execution_count": 2,
   "id": "7a99049e",
   "metadata": {},
   "outputs": [
    {
     "data": {
      "text/plain": [
       "[4, 6]"
      ]
     },
     "execution_count": 2,
     "metadata": {},
     "output_type": "execute_result"
    }
   ],
   "source": [
    "list2"
   ]
  },
  {
   "cell_type": "code",
   "execution_count": 3,
   "id": "4d18e3f1",
   "metadata": {},
   "outputs": [
    {
     "data": {
      "text/plain": [
       "0"
      ]
     },
     "execution_count": 3,
     "metadata": {},
     "output_type": "execute_result"
    }
   ],
   "source": [
    "list1.index(16)"
   ]
  },
  {
   "cell_type": "code",
   "execution_count": 7,
   "id": "12cb11f4",
   "metadata": {},
   "outputs": [
    {
     "data": {
      "text/plain": [
       "[10, 11, 12, 13, 14, 15]"
      ]
     },
     "execution_count": 7,
     "metadata": {},
     "output_type": "execute_result"
    }
   ],
   "source": [
    "l= list(range(10,15+1))\n",
    "l"
   ]
  },
  {
   "cell_type": "code",
   "execution_count": 8,
   "id": "f7b8812b",
   "metadata": {},
   "outputs": [
    {
     "name": "stdout",
     "output_type": "stream",
     "text": [
      "10\n",
      "11\n",
      "12\n",
      "13\n",
      "14\n",
      "15\n"
     ]
    }
   ],
   "source": [
    "for i in l:\n",
    "    print(i)"
   ]
  },
  {
   "cell_type": "code",
   "execution_count": 11,
   "id": "49c654ad",
   "metadata": {},
   "outputs": [
    {
     "name": "stdout",
     "output_type": "stream",
     "text": [
      "5\n",
      "8\n",
      "9\n",
      "4\n",
      "5\n",
      "7\n"
     ]
    }
   ],
   "source": [
    "list1=[5,8,9,4,5,7]\n",
    "l=len(list1)\n",
    "for index in range(0,l):\n",
    "    print(list1[index])"
   ]
  },
  {
   "cell_type": "code",
   "execution_count": 12,
   "id": "c6b07635",
   "metadata": {},
   "outputs": [
    {
     "data": {
      "text/plain": [
       "[4, 6, 9, 3, 36]"
      ]
     },
     "execution_count": 12,
     "metadata": {},
     "output_type": "execute_result"
    }
   ],
   "source": [
    "list1 = [4,6,9,3,5]\n",
    "index_element = list1.index(element)\n",
    "for element in list1:\n",
    "    if element%2==0:\n",
    "        list2.append(element)\n",
    "        list1[index_element]=element**2\n",
    "    else:\n",
    "        list1[index_element]=element*2\n",
    "list1"
   ]
  },
  {
   "cell_type": "code",
   "execution_count": 14,
   "id": "c8c94ba8",
   "metadata": {},
   "outputs": [
    {
     "data": {
      "text/plain": [
       "[16, 12, 81, 6, 25]"
      ]
     },
     "execution_count": 14,
     "metadata": {},
     "output_type": "execute_result"
    }
   ],
   "source": [
    "list1 = [4,6,9,3,5]\n",
    "\n",
    "for index in range(0,len(list1)):\n",
    "    element=list1[index]\n",
    "    if index%2==0:\n",
    "        list1[index]=element**2\n",
    "    else:\n",
    "        list1[index]=element*2\n",
    "list1"
   ]
  },
  {
   "cell_type": "code",
   "execution_count": 16,
   "id": "d73fb200",
   "metadata": {},
   "outputs": [],
   "source": [
    "#check where a number is palindrom\n",
    "#string reverse\n",
    "#madam"
   ]
  },
  {
   "cell_type": "code",
   "execution_count": 36,
   "id": "34be60cf",
   "metadata": {},
   "outputs": [
    {
     "data": {
      "text/plain": [
       "str"
      ]
     },
     "execution_count": 36,
     "metadata": {},
     "output_type": "execute_result"
    }
   ],
   "source": [
    "string = \"madamaslsa\"\n",
    "type(string)"
   ]
  },
  {
   "cell_type": "code",
   "execution_count": 37,
   "id": "e2a39b33",
   "metadata": {},
   "outputs": [
    {
     "data": {
      "text/plain": [
       "'m'"
      ]
     },
     "execution_count": 37,
     "metadata": {},
     "output_type": "execute_result"
    }
   ],
   "source": [
    "string[4]"
   ]
  },
  {
   "cell_type": "code",
   "execution_count": 38,
   "id": "cb32d383",
   "metadata": {},
   "outputs": [
    {
     "data": {
      "text/plain": [
       "'aslsamadam'"
      ]
     },
     "execution_count": 38,
     "metadata": {},
     "output_type": "execute_result"
    }
   ],
   "source": [
    "string[::-1]"
   ]
  },
  {
   "cell_type": "code",
   "execution_count": 41,
   "id": "5b485aed",
   "metadata": {},
   "outputs": [
    {
     "data": {
      "text/plain": [
       "str"
      ]
     },
     "execution_count": 41,
     "metadata": {},
     "output_type": "execute_result"
    }
   ],
   "source": [
    "input ='madam'\n",
    "type(input)"
   ]
  },
  {
   "cell_type": "code",
   "execution_count": 42,
   "id": "8c3c6b3a",
   "metadata": {},
   "outputs": [
    {
     "name": "stdout",
     "output_type": "stream",
     "text": [
      "palindrom\n"
     ]
    }
   ],
   "source": [
    "if input ==input[::-1]:\n",
    "    print('palindrom')\n",
    "else:\n",
    "    print('not palindrom')\n"
   ]
  },
  {
   "cell_type": "code",
   "execution_count": 48,
   "id": "8fa3f217",
   "metadata": {},
   "outputs": [
    {
     "name": "stdout",
     "output_type": "stream",
     "text": [
      "prime\n"
     ]
    }
   ],
   "source": [
    "#prime number ?\n",
    "\n",
    "n=29\n",
    "assume = 'prime'\n",
    "\n",
    "for element in range(2,n):\n",
    "    if n%element==0:\n",
    "        assume ='not prime '\n",
    "print(assume)"
   ]
  },
  {
   "cell_type": "code",
   "execution_count": 50,
   "id": "e0c3a706",
   "metadata": {},
   "outputs": [
    {
     "name": "stdout",
     "output_type": "stream",
     "text": [
      "3\n",
      "9\n",
      "not prime \n"
     ]
    }
   ],
   "source": [
    "#break condition\n",
    "\n",
    "n=27\n",
    "assume = 'prime'\n",
    "\n",
    "for element in range(2,n):\n",
    "    if n%element==0:\n",
    "        print(element)\n",
    "        assume ='not prime '\n",
    "print(assume)"
   ]
  },
  {
   "cell_type": "code",
   "execution_count": 53,
   "id": "4f1f014e",
   "metadata": {},
   "outputs": [
    {
     "data": {
      "text/plain": [
       "25"
      ]
     },
     "execution_count": 53,
     "metadata": {},
     "output_type": "execute_result"
    }
   ],
   "source": [
    "square=2**2\n",
    "\n",
    "def square(n):\n",
    "    return n**2\n",
    "\n",
    "square(5)\n"
   ]
  },
  {
   "cell_type": "code",
   "execution_count": 54,
   "id": "be3e921d",
   "metadata": {},
   "outputs": [
    {
     "name": "stdout",
     "output_type": "stream",
     "text": [
      "25\n"
     ]
    }
   ],
   "source": [
    "def square():\n",
    "    n=5\n",
    "    print(n**2)\n",
    "    \n",
    "square()"
   ]
  },
  {
   "cell_type": "code",
   "execution_count": 56,
   "id": "a1654d56",
   "metadata": {},
   "outputs": [
    {
     "name": "stdout",
     "output_type": "stream",
     "text": [
      "88\n"
     ]
    }
   ],
   "source": [
    "def addition(a,b):\n",
    "    print(a+b)\n",
    "    \n",
    "addition(45,43)"
   ]
  },
  {
   "cell_type": "code",
   "execution_count": 65,
   "id": "960ee262",
   "metadata": {},
   "outputs": [
    {
     "name": "stdout",
     "output_type": "stream",
     "text": [
      "not prime \n"
     ]
    }
   ],
   "source": [
    " def check_prime(n):\n",
    "        assume = 'prime'\n",
    "        for element in range(2,n):\n",
    "            if n%element==0:\n",
    "                assume ='not prime '           \n",
    "print(assume)"
   ]
  },
  {
   "cell_type": "code",
   "execution_count": 61,
   "id": "f57ec763",
   "metadata": {},
   "outputs": [
    {
     "name": "stdout",
     "output_type": "stream",
     "text": [
      "5\n",
      "7\n",
      "8\n"
     ]
    }
   ],
   "source": [
    "list1=[5,7,8]\n",
    "for i in list1:\n",
    "    print(i)"
   ]
  },
  {
   "cell_type": "code",
   "execution_count": 62,
   "id": "e59583b1",
   "metadata": {},
   "outputs": [
    {
     "name": "stdout",
     "output_type": "stream",
     "text": [
      "5\n",
      "7\n",
      "8\n"
     ]
    }
   ],
   "source": [
    "i=0\n",
    "while(i<len(list1)):\n",
    "    print(list1[i])\n",
    "    i=i+1"
   ]
  },
  {
   "cell_type": "code",
   "execution_count": 68,
   "id": "3e5708cd",
   "metadata": {},
   "outputs": [],
   "source": [
    "check_prime(25)"
   ]
  },
  {
   "cell_type": "code",
   "execution_count": null,
   "id": "8b452f6c",
   "metadata": {},
   "outputs": [],
   "source": []
  }
 ],
 "metadata": {
  "kernelspec": {
   "display_name": "Python 3 (ipykernel)",
   "language": "python",
   "name": "python3"
  },
  "language_info": {
   "codemirror_mode": {
    "name": "ipython",
    "version": 3
   },
   "file_extension": ".py",
   "mimetype": "text/x-python",
   "name": "python",
   "nbconvert_exporter": "python",
   "pygments_lexer": "ipython3",
   "version": "3.9.13"
  }
 },
 "nbformat": 4,
 "nbformat_minor": 5
}

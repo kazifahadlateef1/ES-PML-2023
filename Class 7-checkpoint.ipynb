{
 "cells": [
  {
   "cell_type": "code",
   "execution_count": 1,
   "id": "0bf90b37",
   "metadata": {},
   "outputs": [
    {
     "ename": "SyntaxError",
     "evalue": "invalid syntax (4042183968.py, line 1)",
     "output_type": "error",
     "traceback": [
      "\u001b[1;36m  File \u001b[1;32m\"C:\\Users\\FAHAD\\AppData\\Local\\Temp\\ipykernel_15936\\4042183968.py\"\u001b[1;36m, line \u001b[1;32m1\u001b[0m\n\u001b[1;33m    10.Create two sets and perform the following\u001b[0m\n\u001b[1;37m       ^\u001b[0m\n\u001b[1;31mSyntaxError\u001b[0m\u001b[1;31m:\u001b[0m invalid syntax\n"
     ]
    }
   ],
   "source": [
    "10.Create two sets and perform the following\n",
    "a.union of the two sets\n",
    "b.intersection of the two sets\n"
   ]
  },
  {
   "cell_type": "code",
   "execution_count": 2,
   "id": "e87ea445",
   "metadata": {},
   "outputs": [],
   "source": [
    "set1={1,2,3,4,5,6,7}\n",
    "set2={5,6,7,8,9,0}"
   ]
  },
  {
   "cell_type": "code",
   "execution_count": 3,
   "id": "d4b9ad34",
   "metadata": {},
   "outputs": [
    {
     "data": {
      "text/plain": [
       "{1, 2, 3, 4, 5, 6, 7}"
      ]
     },
     "execution_count": 3,
     "metadata": {},
     "output_type": "execute_result"
    }
   ],
   "source": [
    "set1"
   ]
  },
  {
   "cell_type": "code",
   "execution_count": 4,
   "id": "3175f021",
   "metadata": {},
   "outputs": [
    {
     "data": {
      "text/plain": [
       "{0, 5, 6, 7, 8, 9}"
      ]
     },
     "execution_count": 4,
     "metadata": {},
     "output_type": "execute_result"
    }
   ],
   "source": [
    "set2"
   ]
  },
  {
   "cell_type": "code",
   "execution_count": 5,
   "id": "079234ee",
   "metadata": {},
   "outputs": [],
   "source": [
    "un=set1.union(set2)"
   ]
  },
  {
   "cell_type": "code",
   "execution_count": 6,
   "id": "4b704aca",
   "metadata": {},
   "outputs": [],
   "source": [
    "inter=set1.intersection(set2)"
   ]
  },
  {
   "cell_type": "code",
   "execution_count": 7,
   "id": "bb5db891",
   "metadata": {},
   "outputs": [
    {
     "data": {
      "text/plain": [
       "{0, 1, 2, 3, 4, 5, 6, 7, 8, 9}"
      ]
     },
     "execution_count": 7,
     "metadata": {},
     "output_type": "execute_result"
    }
   ],
   "source": [
    "un"
   ]
  },
  {
   "cell_type": "code",
   "execution_count": 8,
   "id": "9f3e9121",
   "metadata": {},
   "outputs": [
    {
     "data": {
      "text/plain": [
       "{5, 6, 7}"
      ]
     },
     "execution_count": 8,
     "metadata": {},
     "output_type": "execute_result"
    }
   ],
   "source": [
    "inter"
   ]
  },
  {
   "cell_type": "code",
   "execution_count": 9,
   "id": "dd226bbe",
   "metadata": {},
   "outputs": [],
   "source": [
    "set3={11,12,13,14,15}\n"
   ]
  },
  {
   "cell_type": "code",
   "execution_count": 10,
   "id": "27345077",
   "metadata": {},
   "outputs": [
    {
     "data": {
      "text/plain": [
       "['hell', ' w', 'rld']"
      ]
     },
     "execution_count": 10,
     "metadata": {},
     "output_type": "execute_result"
    }
   ],
   "source": [
    "#string\n",
    "\n",
    "#split   (string->list of strings)\n",
    "#join  (list of string-->single string)\n",
    "s='hello world'\n",
    "s.split('o')"
   ]
  },
  {
   "cell_type": "code",
   "execution_count": 11,
   "id": "83df1004",
   "metadata": {},
   "outputs": [
    {
     "data": {
      "text/plain": [
       "'hell wrld'"
      ]
     },
     "execution_count": 11,
     "metadata": {},
     "output_type": "execute_result"
    }
   ],
   "source": [
    "l=['hell', ' w', 'rld']\n",
    "''.join(l)"
   ]
  },
  {
   "cell_type": "code",
   "execution_count": 12,
   "id": "c21819b7",
   "metadata": {},
   "outputs": [
    {
     "data": {
      "text/plain": [
       "'hello world'"
      ]
     },
     "execution_count": 12,
     "metadata": {},
     "output_type": "execute_result"
    }
   ],
   "source": [
    "l=['hell', ' w', 'rld']\n",
    "'o'.join(l)"
   ]
  },
  {
   "cell_type": "code",
   "execution_count": 13,
   "id": "4d16c196",
   "metadata": {},
   "outputs": [
    {
     "data": {
      "text/plain": [
       "'hello world'"
      ]
     },
     "execution_count": 13,
     "metadata": {},
     "output_type": "execute_result"
    }
   ],
   "source": [
    "s"
   ]
  },
  {
   "cell_type": "code",
   "execution_count": 14,
   "id": "9706efe1",
   "metadata": {},
   "outputs": [
    {
     "data": {
      "text/plain": [
       "'hello world'"
      ]
     },
     "execution_count": 14,
     "metadata": {},
     "output_type": "execute_result"
    }
   ],
   "source": [
    "\n",
    "s.lower()"
   ]
  },
  {
   "cell_type": "code",
   "execution_count": 15,
   "id": "0af3ddb0",
   "metadata": {},
   "outputs": [
    {
     "data": {
      "text/plain": [
       "'HELLO WORLD'"
      ]
     },
     "execution_count": 15,
     "metadata": {},
     "output_type": "execute_result"
    }
   ],
   "source": [
    "s.upper()"
   ]
  },
  {
   "cell_type": "code",
   "execution_count": 17,
   "id": "5abfb1c5",
   "metadata": {},
   "outputs": [
    {
     "data": {
      "text/plain": [
       "'Hello world'"
      ]
     },
     "execution_count": 17,
     "metadata": {},
     "output_type": "execute_result"
    }
   ],
   "source": [
    "s.capitalize()"
   ]
  },
  {
   "cell_type": "code",
   "execution_count": 18,
   "id": "91195149",
   "metadata": {},
   "outputs": [
    {
     "data": {
      "text/plain": [
       "97"
      ]
     },
     "execution_count": 18,
     "metadata": {},
     "output_type": "execute_result"
    }
   ],
   "source": [
    "ord('a')"
   ]
  },
  {
   "cell_type": "code",
   "execution_count": 19,
   "id": "93ac0279",
   "metadata": {},
   "outputs": [
    {
     "data": {
      "text/plain": [
       "65"
      ]
     },
     "execution_count": 19,
     "metadata": {},
     "output_type": "execute_result"
    }
   ],
   "source": [
    "ord('A')"
   ]
  },
  {
   "cell_type": "code",
   "execution_count": 20,
   "id": "950c96d0",
   "metadata": {},
   "outputs": [
    {
     "data": {
      "text/plain": [
       "'A'"
      ]
     },
     "execution_count": 20,
     "metadata": {},
     "output_type": "execute_result"
    }
   ],
   "source": [
    "chr(65)"
   ]
  },
  {
   "cell_type": "code",
   "execution_count": 21,
   "id": "865b2cef",
   "metadata": {},
   "outputs": [],
   "source": [
    "A=\"Python Programmin Language\""
   ]
  },
  {
   "cell_type": "code",
   "execution_count": 22,
   "id": "f6c98974",
   "metadata": {},
   "outputs": [],
   "source": [
    "B=\"Best in Tho World\""
   ]
  },
  {
   "cell_type": "code",
   "execution_count": 23,
   "id": "90fe4294",
   "metadata": {},
   "outputs": [
    {
     "data": {
      "text/plain": [
       "'Python Programmin Language'"
      ]
     },
     "execution_count": 23,
     "metadata": {},
     "output_type": "execute_result"
    }
   ],
   "source": [
    "A"
   ]
  },
  {
   "cell_type": "code",
   "execution_count": 24,
   "id": "a315a195",
   "metadata": {},
   "outputs": [
    {
     "data": {
      "text/plain": [
       "10"
      ]
     },
     "execution_count": 24,
     "metadata": {},
     "output_type": "execute_result"
    }
   ],
   "source": [
    "A.index('gram')"
   ]
  },
  {
   "cell_type": "code",
   "execution_count": 25,
   "id": "fadac633",
   "metadata": {},
   "outputs": [
    {
     "data": {
      "text/plain": [
       "'PYTHON PROGRAMMIN LANGUAGE'"
      ]
     },
     "execution_count": 25,
     "metadata": {},
     "output_type": "execute_result"
    }
   ],
   "source": [
    "A.upper()"
   ]
  },
  {
   "cell_type": "code",
   "execution_count": 26,
   "id": "590be6ea",
   "metadata": {},
   "outputs": [
    {
     "data": {
      "text/plain": [
       "12"
      ]
     },
     "execution_count": 26,
     "metadata": {},
     "output_type": "execute_result"
    }
   ],
   "source": [
    "B.index(\"World\")"
   ]
  },
  {
   "cell_type": "code",
   "execution_count": 29,
   "id": "bc877b17",
   "metadata": {},
   "outputs": [
    {
     "data": {
      "text/plain": [
       "'Python Programmin Language Best in Tho World'"
      ]
     },
     "execution_count": 29,
     "metadata": {},
     "output_type": "execute_result"
    }
   ],
   "source": [
    "A+\" \" +B"
   ]
  },
  {
   "cell_type": "code",
   "execution_count": 28,
   "id": "78d5881d",
   "metadata": {},
   "outputs": [
    {
     "data": {
      "text/plain": [
       "'gram'"
      ]
     },
     "execution_count": 28,
     "metadata": {},
     "output_type": "execute_result"
    }
   ],
   "source": [
    "A[10:14]"
   ]
  },
  {
   "cell_type": "code",
   "execution_count": 30,
   "id": "1f98dd16",
   "metadata": {},
   "outputs": [],
   "source": [
    "C=(A,B)"
   ]
  },
  {
   "cell_type": "code",
   "execution_count": 31,
   "id": "9ffdc91a",
   "metadata": {},
   "outputs": [
    {
     "data": {
      "text/plain": [
       "('Python Programmin Language', 'Best in Tho World')"
      ]
     },
     "execution_count": 31,
     "metadata": {},
     "output_type": "execute_result"
    }
   ],
   "source": [
    "C"
   ]
  },
  {
   "cell_type": "code",
   "execution_count": 34,
   "id": "68f6aae8",
   "metadata": {},
   "outputs": [],
   "source": [
    "#problem numbner 12\n",
    "l=list(range(0,50,2))"
   ]
  },
  {
   "cell_type": "code",
   "execution_count": 35,
   "id": "bc4c967c",
   "metadata": {},
   "outputs": [
    {
     "data": {
      "text/plain": [
       "25"
      ]
     },
     "execution_count": 35,
     "metadata": {},
     "output_type": "execute_result"
    }
   ],
   "source": [
    "len(l)"
   ]
  },
  {
   "cell_type": "raw",
   "id": "35c211d2",
   "metadata": {},
   "source": []
  }
 ],
 "metadata": {
  "kernelspec": {
   "display_name": "Python 3 (ipykernel)",
   "language": "python",
   "name": "python3"
  },
  "language_info": {
   "codemirror_mode": {
    "name": "ipython",
    "version": 3
   },
   "file_extension": ".py",
   "mimetype": "text/x-python",
   "name": "python",
   "nbconvert_exporter": "python",
   "pygments_lexer": "ipython3",
   "version": "3.9.13"
  }
 },
 "nbformat": 4,
 "nbformat_minor": 5
}

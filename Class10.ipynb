{
 "cells": [
  {
   "cell_type": "code",
   "execution_count": 4,
   "id": "7850339f",
   "metadata": {},
   "outputs": [
    {
     "data": {
      "text/plain": [
       "2400.0"
      ]
     },
     "execution_count": 4,
     "metadata": {},
     "output_type": "execute_result"
    }
   ],
   "source": [
    "#veriance\n",
    "x=[60,60,60,60,60,60,200]\n",
    "sum1=0\n",
    "m=sum(x)/len(x)\n",
    "for i in x:\n",
    "    sum1=sum1+(i-m)**2\n",
    "sum1/len(x)"
   ]
  },
  {
   "cell_type": "code",
   "execution_count": 7,
   "id": "abd087a3",
   "metadata": {},
   "outputs": [
    {
     "name": "stdout",
     "output_type": "stream",
     "text": [
      "48.98979485566356\n"
     ]
    }
   ],
   "source": [
    "#Standard deviation\n",
    "x=[60,60,60,60,60,60,200]\n",
    "sum1=0\n",
    "m=sum(x)/len(x)\n",
    "for i in x:\n",
    "    sum1=sum1+(i-m)**2\n",
    "sum1/len(x)\n",
    "print((sum1/len(x))**(0.5))"
   ]
  },
  {
   "cell_type": "code",
   "execution_count": null,
   "id": "a2ca391d",
   "metadata": {},
   "outputs": [],
   "source": []
  }
 ],
 "metadata": {
  "kernelspec": {
   "display_name": "Python 3 (ipykernel)",
   "language": "python",
   "name": "python3"
  },
  "language_info": {
   "codemirror_mode": {
    "name": "ipython",
    "version": 3
   },
   "file_extension": ".py",
   "mimetype": "text/x-python",
   "name": "python",
   "nbconvert_exporter": "python",
   "pygments_lexer": "ipython3",
   "version": "3.9.13"
  }
 },
 "nbformat": 4,
 "nbformat_minor": 5
}

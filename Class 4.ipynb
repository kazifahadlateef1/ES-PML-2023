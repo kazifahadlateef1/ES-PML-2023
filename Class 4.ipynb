{
 "cells": [
  {
   "cell_type": "code",
   "execution_count": 5,
   "id": "4e54ea60",
   "metadata": {},
   "outputs": [
    {
     "name": "stdout",
     "output_type": "stream",
     "text": [
      "a and b is equal\n"
     ]
    }
   ],
   "source": [
    "a=10\n",
    "b=10\n",
    "\n",
    "if a>b:\n",
    "    print('a is gretter\\n')\n",
    "elif b>a:\n",
    "    print('b is gretter\\n')\n",
    "if a==b:\n",
    "    print('a and b is equal')"
   ]
  },
  {
   "cell_type": "code",
   "execution_count": 3,
   "id": "5dc24764",
   "metadata": {},
   "outputs": [
    {
     "name": "stdout",
     "output_type": "stream",
     "text": [
      "a is gretter\n",
      "\n"
     ]
    }
   ],
   "source": [
    "a=15\n",
    "b=10\n",
    "\n",
    "if a>b:\n",
    "    print('a is gretter\\n')\n",
    "else:\n",
    "    print('b is gretter\\n')"
   ]
  },
  {
   "cell_type": "code",
   "execution_count": 8,
   "id": "4b753777",
   "metadata": {},
   "outputs": [
    {
     "ename": "IndentationError",
     "evalue": "unexpected indent (3979372255.py, line 2)",
     "output_type": "error",
     "traceback": [
      "\u001b[1;36m  File \u001b[1;32m\"C:\\Users\\h\\AppData\\Local\\Temp\\ipykernel_17756\\3979372255.py\"\u001b[1;36m, line \u001b[1;32m2\u001b[0m\n\u001b[1;33m    student_age>21\u001b[0m\n\u001b[1;37m    ^\u001b[0m\n\u001b[1;31mIndentationError\u001b[0m\u001b[1;31m:\u001b[0m unexpected indent\n"
     ]
    }
   ],
   "source": [
    "restaurent1 = 'R1'\n",
    "    student_age>21\n",
    "    student_covid = 2\n",
    "restaurent2= 'R2'\n",
    "    student_age>18\n",
    "    student_covid= 1"
   ]
  },
  {
   "cell_type": "code",
   "execution_count": 11,
   "id": "76bcd6ab",
   "metadata": {},
   "outputs": [],
   "source": [
    "student_age = 22\n",
    "student_covid = 2"
   ]
  },
  {
   "cell_type": "code",
   "execution_count": 15,
   "id": "68bd6d72",
   "metadata": {},
   "outputs": [
    {
     "name": "stdout",
     "output_type": "stream",
     "text": [
      "student is allowed in restaurent 1 and restaurent 2 \n",
      " good\n"
     ]
    }
   ],
   "source": [
    "if student_covid ==2:\n",
    "    if student_age>21:\n",
    "        print('student is allowed in restaurent 1 and restaurent 2 ')\n",
    "    elif student_age>18:\n",
    "        print('student is allowed in restaurent 2 ')\n",
    "    else:\n",
    "        print('student is not alowed in restaurent 1 and restaurent 2 ')\n",
    "else :\n",
    "    print('student is not vaccineted successfully ')\n",
    "    \n",
    "student_mark = 66\n",
    "if student_mark>=90: \n",
    "    print('Excellent')\n",
    "elif student_mark>=69 and student_mark<91:\n",
    "    print('very good')\n",
    "elif student_mark>59 and student_mark<70:\n",
    "    print(' good') \n",
    "elif student_mark>39 and student_mark<60: \n",
    "    print(' avareg')\n",
    "elif student_mark>=0 and student_mark<40: \n",
    "        print(' poor')"
   ]
  },
  {
   "cell_type": "code",
   "execution_count": 29,
   "id": "a8881231",
   "metadata": {},
   "outputs": [
    {
     "data": {
      "text/plain": [
       "[1, 6, 64, 4, 6]"
      ]
     },
     "execution_count": 29,
     "metadata": {},
     "output_type": "execute_result"
    }
   ],
   "source": [
    "list1 = [1,6,8,4,6]\n",
    "list1[2]=list1[2]*list1[2]\n",
    "list1"
   ]
  },
  {
   "cell_type": "code",
   "execution_count": 30,
   "id": "c2c65f55",
   "metadata": {},
   "outputs": [
    {
     "name": "stdout",
     "output_type": "stream",
     "text": [
      "1 6 64 4 6 "
     ]
    }
   ],
   "source": [
    "for element in list1:\n",
    "    print(element,end=' ')"
   ]
  },
  {
   "cell_type": "code",
   "execution_count": 31,
   "id": "d6cd98d4",
   "metadata": {},
   "outputs": [
    {
     "name": "stdout",
     "output_type": "stream",
     "text": [
      "1 36 4096 16 36 "
     ]
    }
   ],
   "source": [
    "for element in list1:\n",
    "    print(element**2,end=' ')"
   ]
  },
  {
   "cell_type": "code",
   "execution_count": 32,
   "id": "f097ae42",
   "metadata": {},
   "outputs": [
    {
     "name": "stdout",
     "output_type": "stream",
     "text": [
      "1 4096 36 "
     ]
    }
   ],
   "source": [
    "for element in list1[::2]:\n",
    "    print(element**2,end=' ')"
   ]
  },
  {
   "cell_type": "code",
   "execution_count": 33,
   "id": "6155f77c",
   "metadata": {},
   "outputs": [
    {
     "name": "stdout",
     "output_type": "stream",
     "text": [
      "11 16 74 14 16 "
     ]
    }
   ],
   "source": [
    "for element in list1:\n",
    "    print(element+10,end=' ')"
   ]
  },
  {
   "cell_type": "code",
   "execution_count": 47,
   "id": "72aee43a",
   "metadata": {},
   "outputs": [
    {
     "name": "stdout",
     "output_type": "stream",
     "text": [
      "1 is at  0\n",
      "list[] 0 ]= 1 **2 =  1\n",
      "1679616 is at  1\n",
      "list[] 1 ]= 1679616 **2 =  2821109907456\n",
      "281474976710656 is at  2\n",
      "list[] 2 ]= 281474976710656 **2 =  79228162514264337593543950336\n",
      "65536 is at  3\n",
      "list[] 3 ]= 65536 **2 =  4294967296\n",
      "1679616 is at  4\n",
      "list[] 4 ]= 1679616 **2 =  2821109907456\n"
     ]
    }
   ],
   "source": [
    "for element in list1:\n",
    "    index_element = list1.index(element)\n",
    "    print(element,'is at ',index_element)\n",
    "    print('list[]',index_element,']=',element,'**2 = ',element**2)\n",
    "    list1[index_element]=element**2"
   ]
  },
  {
   "cell_type": "code",
   "execution_count": 52,
   "id": "a7b8aa5f",
   "metadata": {},
   "outputs": [],
   "source": [
    "list2 =[3,1,5,4,7,2,9]"
   ]
  },
  {
   "cell_type": "code",
   "execution_count": 53,
   "id": "a8b5f84d",
   "metadata": {},
   "outputs": [
    {
     "name": "stdout",
     "output_type": "stream",
     "text": [
      "list2[ 0 ]= 3 **2 =  9\n",
      "list2[ 1 ]= 1 **2 =  1\n",
      "list2[ 2 ]= 5 **2 =  25\n",
      "list2[ 3 ]= 4 **2 =  16\n",
      "list2[ 4 ]= 7 **2 =  49\n",
      "list2[ 5 ]= 2 **2 =  4\n",
      "list2[ 0 ]= 9 **2 =  81\n"
     ]
    }
   ],
   "source": [
    "for element in list2:\n",
    "    index_element = list2.index(element)\n",
    "    print('list2[',index_element,']=',element,'**2 = ',element**2)\n",
    "    list2[index_element]=element**2"
   ]
  },
  {
   "cell_type": "code",
   "execution_count": 55,
   "id": "02bf1195",
   "metadata": {},
   "outputs": [
    {
     "name": "stdout",
     "output_type": "stream",
     "text": [
      "3 is odd\n",
      "5 is odd\n",
      "6 is even\n",
      "8 is even\n",
      "9 is odd\n",
      "2 is even\n",
      "4 is even\n",
      "12 is even\n",
      "45 is odd\n",
      "23 is odd\n",
      "56 is even\n",
      "78 is even\n",
      "45 is odd\n",
      "76 is even\n",
      "27 is odd\n",
      "64 is even\n"
     ]
    }
   ],
   "source": [
    "#list1 try to find all the event number \n",
    "\n",
    "list3=[3,5,6,8,9,2,4,12,45,23,56,78,45,76,27,64]\n",
    "for element in list3:\n",
    "    if element%2==1 :\n",
    "        print(element ,'is odd')\n",
    "    else :\n",
    "         print(element ,'is even')"
   ]
  },
  {
   "cell_type": "code",
   "execution_count": null,
   "id": "eb34ec23",
   "metadata": {},
   "outputs": [],
   "source": []
  }
 ],
 "metadata": {
  "kernelspec": {
   "display_name": "Python 3 (ipykernel)",
   "language": "python",
   "name": "python3"
  },
  "language_info": {
   "codemirror_mode": {
    "name": "ipython",
    "version": 3
   },
   "file_extension": ".py",
   "mimetype": "text/x-python",
   "name": "python",
   "nbconvert_exporter": "python",
   "pygments_lexer": "ipython3",
   "version": "3.9.13"
  }
 },
 "nbformat": 4,
 "nbformat_minor": 5
}

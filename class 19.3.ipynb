{
 "cells": [
  {
   "cell_type": "code",
   "execution_count": 5,
   "id": "c9945829",
   "metadata": {},
   "outputs": [
    {
     "name": "stdout",
     "output_type": "stream",
     "text": [
      "Classification Report for Test Set:\n",
      "               precision    recall  f1-score   support\n",
      "\n",
      "           1       0.80      0.96      0.87        47\n",
      "           2       0.60      0.21      0.32        14\n",
      "\n",
      "    accuracy                           0.79        61\n",
      "   macro avg       0.70      0.59      0.59        61\n",
      "weighted avg       0.76      0.79      0.75        61\n",
      "\n",
      "Classification Report for Training Set:\n",
      "               precision    recall  f1-score   support\n",
      "\n",
      "           1       0.77      0.97      0.85       177\n",
      "           2       0.71      0.22      0.34        67\n",
      "\n",
      "    accuracy                           0.76       244\n",
      "   macro avg       0.74      0.59      0.60       244\n",
      "weighted avg       0.75      0.76      0.71       244\n",
      "\n"
     ]
    },
    {
     "name": "stderr",
     "output_type": "stream",
     "text": [
      "C:\\Users\\FAHAD\\anaconda3\\lib\\site-packages\\sklearn\\neighbors\\_classification.py:228: FutureWarning: Unlike other reduction functions (e.g. `skew`, `kurtosis`), the default behavior of `mode` typically preserves the axis it acts along. In SciPy 1.11.0, this behavior will change: the default value of `keepdims` will become False, the `axis` over which the statistic is taken will be eliminated, and the value None will no longer be accepted. Set `keepdims` to True or False to avoid this warning.\n",
      "  mode, _ = stats.mode(_y[neigh_ind, k], axis=1)\n",
      "C:\\Users\\FAHAD\\anaconda3\\lib\\site-packages\\sklearn\\neighbors\\_classification.py:228: FutureWarning: Unlike other reduction functions (e.g. `skew`, `kurtosis`), the default behavior of `mode` typically preserves the axis it acts along. In SciPy 1.11.0, this behavior will change: the default value of `keepdims` will become False, the `axis` over which the statistic is taken will be eliminated, and the value None will no longer be accepted. Set `keepdims` to True or False to avoid this warning.\n",
      "  mode, _ = stats.mode(_y[neigh_ind, k], axis=1)\n"
     ]
    }
   ],
   "source": [
    "import pandas as pd\n",
    "from sklearn.model_selection import train_test_split\n",
    "from sklearn.neighbors import KNeighborsClassifier\n",
    "from sklearn.metrics import classification_report\n",
    "\n",
    "# Load the HeberMan's Heart Disease dataset from the CSV file\n",
    "habermans_data = pd.read_csv('haberman1.csv')\n",
    "\n",
    "# Assuming 'survival_status' is the target column, and other columns are features\n",
    "X = habermans_data.drop('survival_status', axis=1)\n",
    "y = habermans_data['survival_status']\n",
    "\n",
    "# Split the dataset into training and testing sets\n",
    "X_train, X_test, y_train, y_test = train_test_split(X, y, test_size=0.2, random_state=42)\n",
    "\n",
    "# Create a KNN classifier with n_neighbors=35\n",
    "neigh = KNeighborsClassifier(n_neighbors=35)\n",
    "\n",
    "# Fit the classifier to the training data\n",
    "neigh.fit(X_train, y_train)\n",
    "\n",
    "# Make predictions on the test set\n",
    "Y_pred_test = neigh.predict(X_test)\n",
    "\n",
    "# Generate a classification report for the test set\n",
    "report_test = classification_report(y_test, Y_pred_test)\n",
    "print(\"Classification Report for Test Set:\\n\", report_test)\n",
    "\n",
    "# Make predictions on the training set\n",
    "Y_pred_train = neigh.predict(X_train)\n",
    "\n",
    "# Generate a classification report for the training set\n",
    "report_train = classification_report(y_train, Y_pred_train)\n",
    "print(\"Classification Report for Training Set:\\n\", report_train)\n",
    "\n"
   ]
  },
  {
   "cell_type": "code",
   "execution_count": 7,
   "id": "83aab036",
   "metadata": {},
   "outputs": [
    {
     "name": "stdout",
     "output_type": "stream",
     "text": [
      "Shape of Y_test: (61,)\n",
      "Shape of pred_Y_train: (244,)\n",
      "Unique values in Y_test: [1 2]\n",
      "Unique values in pred_Y_train: [1 2]\n",
      "Classification Report for Test Set:\n",
      "               precision    recall  f1-score   support\n",
      "\n",
      "           2       0.80      0.96      0.87        47\n",
      "           1       0.60      0.21      0.32        14\n",
      "\n",
      "    accuracy                           0.79        61\n",
      "   macro avg       0.70      0.59      0.59        61\n",
      "weighted avg       0.76      0.79      0.75        61\n",
      "\n",
      "Classification Report for Training Set:\n",
      "               precision    recall  f1-score   support\n",
      "\n",
      "           2       0.77      0.97      0.85       177\n",
      "           1       0.71      0.22      0.34        67\n",
      "\n",
      "    accuracy                           0.76       244\n",
      "   macro avg       0.74      0.59      0.60       244\n",
      "weighted avg       0.75      0.76      0.71       244\n",
      "\n"
     ]
    },
    {
     "name": "stderr",
     "output_type": "stream",
     "text": [
      "C:\\Users\\FAHAD\\anaconda3\\lib\\site-packages\\sklearn\\neighbors\\_classification.py:228: FutureWarning: Unlike other reduction functions (e.g. `skew`, `kurtosis`), the default behavior of `mode` typically preserves the axis it acts along. In SciPy 1.11.0, this behavior will change: the default value of `keepdims` will become False, the `axis` over which the statistic is taken will be eliminated, and the value None will no longer be accepted. Set `keepdims` to True or False to avoid this warning.\n",
      "  mode, _ = stats.mode(_y[neigh_ind, k], axis=1)\n",
      "C:\\Users\\FAHAD\\anaconda3\\lib\\site-packages\\sklearn\\neighbors\\_classification.py:228: FutureWarning: Unlike other reduction functions (e.g. `skew`, `kurtosis`), the default behavior of `mode` typically preserves the axis it acts along. In SciPy 1.11.0, this behavior will change: the default value of `keepdims` will become False, the `axis` over which the statistic is taken will be eliminated, and the value None will no longer be accepted. Set `keepdims` to True or False to avoid this warning.\n",
      "  mode, _ = stats.mode(_y[neigh_ind, k], axis=1)\n"
     ]
    }
   ],
   "source": [
    "import numpy as np\n",
    "from sklearn.model_selection import train_test_split\n",
    "from sklearn.neighbors import KNeighborsClassifier\n",
    "from sklearn.metrics import accuracy_score, classification_report\n",
    "\n",
    "# Assuming 'survival_status' is the target column, and other columns are features\n",
    "X = habermans_data.drop('survival_status', axis=1)\n",
    "y = habermans_data['survival_status']\n",
    "\n",
    "# Split the dataset into training and testing sets\n",
    "X_train, X_test, y_train, y_test = train_test_split(X, y, test_size=0.2, random_state=42)\n",
    "\n",
    "# Create a KNN classifier with n_neighbors=35\n",
    "neigh = KNeighborsClassifier(n_neighbors=35)\n",
    "\n",
    "# Fit the classifier to the training data\n",
    "neigh.fit(X_train, y_train)\n",
    "\n",
    "# Make predictions on the test set\n",
    "pred_Y_train = neigh.predict(X_train)\n",
    "pred_Y_test = neigh.predict(X_test)\n",
    "\n",
    "# Ensure Y_test and pred_Y_train have the same shape\n",
    "print(\"Shape of Y_test:\", y_test.shape)\n",
    "print(\"Shape of pred_Y_train:\", pred_Y_train.shape)\n",
    "\n",
    "# Print unique values in Y_test and pred_Y_train to check for any discrepancies\n",
    "print(\"Unique values in Y_test:\", np.unique(y_test))\n",
    "print(\"Unique values in pred_Y_train:\", np.unique(pred_Y_train))\n",
    "\n",
    "# Generate classification report for the test set\n",
    "target_names = ['2', '1']\n",
    "report_test = classification_report(y_test, pred_Y_test, target_names=target_names)\n",
    "print(\"Classification Report for Test Set:\\n\", report_test)\n",
    "\n",
    "# Generate classification report for the training set\n",
    "report_train = classification_report(y_train, pred_Y_train, target_names=target_names)\n",
    "print(\"Classification Report for Training Set:\\n\", report_train)\n"
   ]
  },
  {
   "cell_type": "code",
   "execution_count": 10,
   "id": "9bb75f6b",
   "metadata": {},
   "outputs": [
    {
     "data": {
      "text/plain": [
       "1    47\n",
       "2    14\n",
       "Name: survival_status, dtype: int64"
      ]
     },
     "execution_count": 10,
     "metadata": {},
     "output_type": "execute_result"
    }
   ],
   "source": [
    "y_test.value_counts()"
   ]
  },
  {
   "cell_type": "code",
   "execution_count": 11,
   "id": "f39348eb",
   "metadata": {},
   "outputs": [
    {
     "data": {
      "text/plain": [
       "1    177\n",
       "2     67\n",
       "Name: survival_status, dtype: int64"
      ]
     },
     "execution_count": 11,
     "metadata": {},
     "output_type": "execute_result"
    }
   ],
   "source": [
    "y_train.value_counts()"
   ]
  },
  {
   "cell_type": "code",
   "execution_count": 15,
   "id": "f87b9e27",
   "metadata": {},
   "outputs": [
    {
     "data": {
      "text/plain": [
       "array([[45,  2],\n",
       "       [11,  3]], dtype=int64)"
      ]
     },
     "execution_count": 15,
     "metadata": {},
     "output_type": "execute_result"
    }
   ],
   "source": [
    "from sklearn.metrics import confusion_matrix\n",
    "confusion_matrix(y_test,pred_Y_test)"
   ]
  },
  {
   "cell_type": "code",
   "execution_count": 19,
   "id": "10570d7c",
   "metadata": {},
   "outputs": [],
   "source": [
    "df=pd.read_csv('haberman1.csv')\n",
    "from sklearn.preprocessing import StandardScaler\n",
    "scaler= StandardScaler()\n",
    "scaled_data=scaler.fit_transform(df)"
   ]
  },
  {
   "cell_type": "code",
   "execution_count": 20,
   "id": "cb927ea9",
   "metadata": {},
   "outputs": [
    {
     "data": {
      "text/plain": [
       "array([[-2.10053274, -0.2613877 , -0.14414708, -0.60133779],\n",
       "       [-2.10053274,  0.66204762, -0.561535  , -0.60133779],\n",
       "       [-2.00730479, -1.18482303, -0.28327639, -0.60133779],\n",
       "       ...,\n",
       "       [ 2.281181  ,  0.66204762, -0.14414708, -0.60133779],\n",
       "       [ 2.37440895,  0.66204762, -0.4224057 ,  1.66295884],\n",
       "       [ 2.84054871, -1.4926348 , -0.28327639,  1.66295884]])"
      ]
     },
     "execution_count": 20,
     "metadata": {},
     "output_type": "execute_result"
    }
   ],
   "source": [
    "scaled_data"
   ]
  },
  {
   "cell_type": "code",
   "execution_count": 21,
   "id": "90c8670e",
   "metadata": {},
   "outputs": [
    {
     "data": {
      "text/plain": [
       "StandardScaler()"
      ]
     },
     "execution_count": 21,
     "metadata": {},
     "output_type": "execute_result"
    }
   ],
   "source": [
    "scaler"
   ]
  },
  {
   "cell_type": "code",
   "execution_count": 22,
   "id": "fd5c4e35",
   "metadata": {},
   "outputs": [],
   "source": [
    "scaled_data=scaler.fit_transform([[10,20,100],[10,80,100]])\n"
   ]
  },
  {
   "cell_type": "code",
   "execution_count": 23,
   "id": "57700e80",
   "metadata": {},
   "outputs": [
    {
     "data": {
      "text/plain": [
       "array([[ 0., -1.,  0.],\n",
       "       [ 0.,  1.,  0.]])"
      ]
     },
     "execution_count": 23,
     "metadata": {},
     "output_type": "execute_result"
    }
   ],
   "source": [
    "scaled_data"
   ]
  },
  {
   "cell_type": "code",
   "execution_count": 24,
   "id": "e182b444",
   "metadata": {},
   "outputs": [
    {
     "name": "stdout",
     "output_type": "stream",
     "text": [
      "[[-0.72760688 -0.72760688]\n",
      " [-0.72760688 -0.72760688]\n",
      " [-0.24253563 -0.24253563]\n",
      " [ 1.69774938  1.69774938]]\n"
     ]
    }
   ],
   "source": [
    "from sklearn.preprocessing import StandardScaler\n",
    "data=[[0,0],[0,0],[1,1],[5,5]]\n",
    "scaler= StandardScaler()\n",
    "print(scaler.fit_transform(data))"
   ]
  },
  {
   "cell_type": "code",
   "execution_count": null,
   "id": "7c9b2e0d",
   "metadata": {},
   "outputs": [],
   "source": []
  }
 ],
 "metadata": {
  "kernelspec": {
   "display_name": "Python 3 (ipykernel)",
   "language": "python",
   "name": "python3"
  },
  "language_info": {
   "codemirror_mode": {
    "name": "ipython",
    "version": 3
   },
   "file_extension": ".py",
   "mimetype": "text/x-python",
   "name": "python",
   "nbconvert_exporter": "python",
   "pygments_lexer": "ipython3",
   "version": "3.9.13"
  }
 },
 "nbformat": 4,
 "nbformat_minor": 5
}

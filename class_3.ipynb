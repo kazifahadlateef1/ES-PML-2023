{
 "cells": [
  {
   "cell_type": "code",
   "execution_count": 8,
   "id": "846d23a1",
   "metadata": {},
   "outputs": [],
   "source": [
    "list1=[5,9,4,6,100,0]\n",
    "list1.sort(reverse=False)\n"
   ]
  },
  {
   "cell_type": "code",
   "execution_count": 9,
   "id": "aa92ded4",
   "metadata": {},
   "outputs": [
    {
     "data": {
      "text/plain": [
       "[0, 4, 5, 6, 9, 100]"
      ]
     },
     "execution_count": 9,
     "metadata": {},
     "output_type": "execute_result"
    }
   ],
   "source": [
    "list1"
   ]
  },
  {
   "cell_type": "code",
   "execution_count": 13,
   "id": "fadb4b18",
   "metadata": {},
   "outputs": [],
   "source": [
    "list1.sort(reverse=False)"
   ]
  },
  {
   "cell_type": "code",
   "execution_count": 14,
   "id": "6aa0fdb0",
   "metadata": {},
   "outputs": [
    {
     "data": {
      "text/plain": [
       "[0, 4, 5, 6, 9, 100]"
      ]
     },
     "execution_count": 14,
     "metadata": {},
     "output_type": "execute_result"
    }
   ],
   "source": [
    "list1\n"
   ]
  },
  {
   "cell_type": "code",
   "execution_count": 12,
   "id": "3957d9c7",
   "metadata": {},
   "outputs": [
    {
     "data": {
      "text/plain": [
       "6"
      ]
     },
     "execution_count": 12,
     "metadata": {},
     "output_type": "execute_result"
    }
   ],
   "source": [
    "len(list1)"
   ]
  },
  {
   "cell_type": "code",
   "execution_count": null,
   "id": "3058eba4",
   "metadata": {},
   "outputs": [],
   "source": [
    "#dictionary\n",
    "\n",
    "word1 : M1\n",
    "word2 : M2,M3\n",
    "word3 : M3\n",
    "word1\n",
    "\n",
    "word - key\n",
    "M - value\n"
   ]
  },
  {
   "cell_type": "code",
   "execution_count": 15,
   "id": "58c0433e",
   "metadata": {},
   "outputs": [],
   "source": [
    "dict1={'key':'value'}\n"
   ]
  },
  {
   "cell_type": "code",
   "execution_count": 18,
   "id": "2ea41102",
   "metadata": {},
   "outputs": [],
   "source": [
    "dict1= {\n",
    "    'word1' : 'M1',\n",
    "    'word2' : ['M2,M3'],\n",
    "    'word3' : 'M3'\n",
    "}"
   ]
  },
  {
   "cell_type": "code",
   "execution_count": 19,
   "id": "318d6f29",
   "metadata": {},
   "outputs": [
    {
     "data": {
      "text/plain": [
       "dict_keys(['word1', 'word2', 'word3'])"
      ]
     },
     "execution_count": 19,
     "metadata": {},
     "output_type": "execute_result"
    }
   ],
   "source": [
    "dict1.keys()"
   ]
  },
  {
   "cell_type": "code",
   "execution_count": 30,
   "id": "d0e0ee1e",
   "metadata": {},
   "outputs": [
    {
     "ename": "SyntaxError",
     "evalue": "invalid syntax (1507667100.py, line 2)",
     "output_type": "error",
     "traceback": [
      "\u001b[1;36m  File \u001b[1;32m\"C:\\Users\\FAHAD\\AppData\\Local\\Temp\\ipykernel_15456\\1507667100.py\"\u001b[1;36m, line \u001b[1;32m2\u001b[0m\n\u001b[1;33m    value - it can be any data type(int,float,string)\u001b[0m\n\u001b[1;37m               ^\u001b[0m\n\u001b[1;31mSyntaxError\u001b[0m\u001b[1;31m:\u001b[0m invalid syntax\n"
     ]
    }
   ],
   "source": [
    "keys- int,float,string\n",
    "value - it can be any data type(int,float,string)"
   ]
  },
  {
   "cell_type": "code",
   "execution_count": 20,
   "id": "56f52200",
   "metadata": {},
   "outputs": [
    {
     "data": {
      "text/plain": [
       "dict_values(['M1', ['M2,M3'], 'M3'])"
      ]
     },
     "execution_count": 20,
     "metadata": {},
     "output_type": "execute_result"
    }
   ],
   "source": [
    "dict1.values()"
   ]
  },
  {
   "cell_type": "code",
   "execution_count": 28,
   "id": "4afd2c7c",
   "metadata": {},
   "outputs": [
    {
     "data": {
      "text/plain": [
       "'M2,M3'"
      ]
     },
     "execution_count": 28,
     "metadata": {},
     "output_type": "execute_result"
    }
   ],
   "source": [
    "dict1['word2'][0]"
   ]
  },
  {
   "cell_type": "code",
   "execution_count": 31,
   "id": "1a7d3b89",
   "metadata": {},
   "outputs": [],
   "source": [
    "dict2={1:'one',\n",
    "      1.0:1,\n",
    "      'one':['one',1,1.0]}"
   ]
  },
  {
   "cell_type": "code",
   "execution_count": 32,
   "id": "73979fc9",
   "metadata": {},
   "outputs": [
    {
     "data": {
      "text/plain": [
       "1"
      ]
     },
     "execution_count": 32,
     "metadata": {},
     "output_type": "execute_result"
    }
   ],
   "source": [
    "dict2[1.0]"
   ]
  },
  {
   "cell_type": "code",
   "execution_count": 33,
   "id": "05fc2d5d",
   "metadata": {},
   "outputs": [],
   "source": [
    "classroom=[1,2,3,4,5]"
   ]
  },
  {
   "cell_type": "code",
   "execution_count": 34,
   "id": "6ed36cfd",
   "metadata": {},
   "outputs": [],
   "source": [
    "classroom1={1:'s1',2:'s2',3:'s3',4:'s4',5:'s5'}"
   ]
  },
  {
   "cell_type": "code",
   "execution_count": 36,
   "id": "5a9360c3",
   "metadata": {},
   "outputs": [
    {
     "data": {
      "text/plain": [
       "'s5'"
      ]
     },
     "execution_count": 36,
     "metadata": {},
     "output_type": "execute_result"
    }
   ],
   "source": [
    "classroom1[5]"
   ]
  },
  {
   "cell_type": "code",
   "execution_count": 37,
   "id": "f443ddcb",
   "metadata": {},
   "outputs": [],
   "source": [
    "classroom=['Boys','Girls']"
   ]
  },
  {
   "cell_type": "code",
   "execution_count": 38,
   "id": "abecdb2b",
   "metadata": {},
   "outputs": [],
   "source": [
    "classroom={'Boys' :{'b1':90,'b2':89},\n",
    "          'Girls':{'g1':56,'g2':87}\n",
    "          }"
   ]
  },
  {
   "cell_type": "code",
   "execution_count": 39,
   "id": "1eef09d2",
   "metadata": {},
   "outputs": [
    {
     "data": {
      "text/plain": [
       "87"
      ]
     },
     "execution_count": 39,
     "metadata": {},
     "output_type": "execute_result"
    }
   ],
   "source": [
    "classroom['Girls']['g2']"
   ]
  },
  {
   "cell_type": "code",
   "execution_count": 40,
   "id": "0e10fbb9",
   "metadata": {},
   "outputs": [
    {
     "data": {
      "text/plain": [
       "{1: 's1', 2: 's2', 3: 's3', 4: 's4', 5: 's5'}"
      ]
     },
     "execution_count": 40,
     "metadata": {},
     "output_type": "execute_result"
    }
   ],
   "source": [
    "classroom1"
   ]
  },
  {
   "cell_type": "code",
   "execution_count": 42,
   "id": "272334da",
   "metadata": {},
   "outputs": [],
   "source": [
    "del classroom1[3]"
   ]
  },
  {
   "cell_type": "code",
   "execution_count": 43,
   "id": "31eeff42",
   "metadata": {},
   "outputs": [
    {
     "data": {
      "text/plain": [
       "{1: 's1', 2: 's2', 4: 's4', 5: 's5'}"
      ]
     },
     "execution_count": 43,
     "metadata": {},
     "output_type": "execute_result"
    }
   ],
   "source": [
    "classroom1"
   ]
  },
  {
   "cell_type": "code",
   "execution_count": null,
   "id": "55f83991",
   "metadata": {},
   "outputs": [],
   "source": []
  }
 ],
 "metadata": {
  "kernelspec": {
   "display_name": "Python 3 (ipykernel)",
   "language": "python",
   "name": "python3"
  },
  "language_info": {
   "codemirror_mode": {
    "name": "ipython",
    "version": 3
   },
   "file_extension": ".py",
   "mimetype": "text/x-python",
   "name": "python",
   "nbconvert_exporter": "python",
   "pygments_lexer": "ipython3",
   "version": "3.9.13"
  }
 },
 "nbformat": 4,
 "nbformat_minor": 5
}

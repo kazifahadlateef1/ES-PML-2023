{
 "cells": [
  {
   "cell_type": "code",
   "execution_count": 1,
   "id": "f1b1574b",
   "metadata": {},
   "outputs": [
    {
     "ename": "SyntaxError",
     "evalue": "invalid syntax (4042183968.py, line 1)",
     "output_type": "error",
     "traceback": [
      "\u001b[1;36m  File \u001b[1;32m\"C:\\Users\\FAHAD\\AppData\\Local\\Temp\\ipykernel_15936\\4042183968.py\"\u001b[1;36m, line \u001b[1;32m1\u001b[0m\n\u001b[1;33m    10.Create two sets and perform the following\u001b[0m\n\u001b[1;37m       ^\u001b[0m\n\u001b[1;31mSyntaxError\u001b[0m\u001b[1;31m:\u001b[0m invalid syntax\n"
     ]
    }
   ],
   "source": [
    "10.Create two sets and perform the following\n",
    "a.union of the two sets\n",
    "b.intersection of the two sets\n"
   ]
  },
  {
   "cell_type": "code",
   "execution_count": 2,
   "id": "607bbacb",
   "metadata": {},
   "outputs": [],
   "source": [
    "set1={1,2,3,4,5,6,7}\n",
    "set2={5,6,7,8,9,0}"
   ]
  },
  {
   "cell_type": "code",
   "execution_count": 3,
   "id": "2e84c152",
   "metadata": {},
   "outputs": [
    {
     "data": {
      "text/plain": [
       "{1, 2, 3, 4, 5, 6, 7}"
      ]
     },
     "execution_count": 3,
     "metadata": {},
     "output_type": "execute_result"
    }
   ],
   "source": [
    "set1"
   ]
  },
  {
   "cell_type": "code",
   "execution_count": 4,
   "id": "839426a5",
   "metadata": {},
   "outputs": [
    {
     "data": {
      "text/plain": [
       "{0, 5, 6, 7, 8, 9}"
      ]
     },
     "execution_count": 4,
     "metadata": {},
     "output_type": "execute_result"
    }
   ],
   "source": [
    "set2"
   ]
  },
  {
   "cell_type": "code",
   "execution_count": 5,
   "id": "2dce4ca1",
   "metadata": {},
   "outputs": [],
   "source": [
    "un=set1.union(set2)"
   ]
  },
  {
   "cell_type": "code",
   "execution_count": 6,
   "id": "df26ccf1",
   "metadata": {},
   "outputs": [],
   "source": [
    "inter=set1.intersection(set2)"
   ]
  },
  {
   "cell_type": "code",
   "execution_count": 7,
   "id": "3f089882",
   "metadata": {},
   "outputs": [
    {
     "data": {
      "text/plain": [
       "{0, 1, 2, 3, 4, 5, 6, 7, 8, 9}"
      ]
     },
     "execution_count": 7,
     "metadata": {},
     "output_type": "execute_result"
    }
   ],
   "source": [
    "un"
   ]
  },
  {
   "cell_type": "code",
   "execution_count": 8,
   "id": "67fa3238",
   "metadata": {},
   "outputs": [
    {
     "data": {
      "text/plain": [
       "{5, 6, 7}"
      ]
     },
     "execution_count": 8,
     "metadata": {},
     "output_type": "execute_result"
    }
   ],
   "source": [
    "inter"
   ]
  },
  {
   "cell_type": "code",
   "execution_count": 9,
   "id": "7725fb50",
   "metadata": {},
   "outputs": [],
   "source": [
    "set3={11,12,13,14,15}\n"
   ]
  },
  {
   "cell_type": "code",
   "execution_count": 10,
   "id": "a4a18042",
   "metadata": {},
   "outputs": [
    {
     "data": {
      "text/plain": [
       "['hell', ' w', 'rld']"
      ]
     },
     "execution_count": 10,
     "metadata": {},
     "output_type": "execute_result"
    }
   ],
   "source": [
    "#string\n",
    "\n",
    "#split   (string->list of strings)\n",
    "#join  (list of string-->single string)\n",
    "s='hello world'\n",
    "s.split('o')"
   ]
  },
  {
   "cell_type": "code",
   "execution_count": 11,
   "id": "0abcad51",
   "metadata": {},
   "outputs": [
    {
     "data": {
      "text/plain": [
       "'hell wrld'"
      ]
     },
     "execution_count": 11,
     "metadata": {},
     "output_type": "execute_result"
    }
   ],
   "source": [
    "l=['hell', ' w', 'rld']\n",
    "''.join(l)"
   ]
  },
  {
   "cell_type": "code",
   "execution_count": 12,
   "id": "18e0068f",
   "metadata": {},
   "outputs": [
    {
     "data": {
      "text/plain": [
       "'hello world'"
      ]
     },
     "execution_count": 12,
     "metadata": {},
     "output_type": "execute_result"
    }
   ],
   "source": [
    "l=['hell', ' w', 'rld']\n",
    "'o'.join(l)"
   ]
  },
  {
   "cell_type": "code",
   "execution_count": 13,
   "id": "5be6607b",
   "metadata": {},
   "outputs": [
    {
     "data": {
      "text/plain": [
       "'hello world'"
      ]
     },
     "execution_count": 13,
     "metadata": {},
     "output_type": "execute_result"
    }
   ],
   "source": [
    "s"
   ]
  },
  {
   "cell_type": "code",
   "execution_count": 14,
   "id": "42d61bb4",
   "metadata": {},
   "outputs": [
    {
     "data": {
      "text/plain": [
       "'hello world'"
      ]
     },
     "execution_count": 14,
     "metadata": {},
     "output_type": "execute_result"
    }
   ],
   "source": [
    "\n",
    "s.lower()"
   ]
  },
  {
   "cell_type": "code",
   "execution_count": 15,
   "id": "e63d1f4b",
   "metadata": {},
   "outputs": [
    {
     "data": {
      "text/plain": [
       "'HELLO WORLD'"
      ]
     },
     "execution_count": 15,
     "metadata": {},
     "output_type": "execute_result"
    }
   ],
   "source": [
    "s.upper()"
   ]
  },
  {
   "cell_type": "code",
   "execution_count": 17,
   "id": "d094260c",
   "metadata": {},
   "outputs": [
    {
     "data": {
      "text/plain": [
       "'Hello world'"
      ]
     },
     "execution_count": 17,
     "metadata": {},
     "output_type": "execute_result"
    }
   ],
   "source": [
    "s.capitalize()"
   ]
  },
  {
   "cell_type": "code",
   "execution_count": 18,
   "id": "d6bfce92",
   "metadata": {},
   "outputs": [
    {
     "data": {
      "text/plain": [
       "97"
      ]
     },
     "execution_count": 18,
     "metadata": {},
     "output_type": "execute_result"
    }
   ],
   "source": [
    "ord('a')"
   ]
  },
  {
   "cell_type": "code",
   "execution_count": 19,
   "id": "af9ba3ab",
   "metadata": {},
   "outputs": [
    {
     "data": {
      "text/plain": [
       "65"
      ]
     },
     "execution_count": 19,
     "metadata": {},
     "output_type": "execute_result"
    }
   ],
   "source": [
    "ord('A')"
   ]
  },
  {
   "cell_type": "code",
   "execution_count": 20,
   "id": "2ee8b05f",
   "metadata": {},
   "outputs": [
    {
     "data": {
      "text/plain": [
       "'A'"
      ]
     },
     "execution_count": 20,
     "metadata": {},
     "output_type": "execute_result"
    }
   ],
   "source": [
    "chr(65)"
   ]
  },
  {
   "cell_type": "code",
   "execution_count": 21,
   "id": "890bdef8",
   "metadata": {},
   "outputs": [],
   "source": [
    "A=\"Python Programmin Language\""
   ]
  },
  {
   "cell_type": "code",
   "execution_count": 22,
   "id": "8efaef7f",
   "metadata": {},
   "outputs": [],
   "source": [
    "B=\"Best in Tho World\""
   ]
  },
  {
   "cell_type": "code",
   "execution_count": 23,
   "id": "0eca2f73",
   "metadata": {},
   "outputs": [
    {
     "data": {
      "text/plain": [
       "'Python Programmin Language'"
      ]
     },
     "execution_count": 23,
     "metadata": {},
     "output_type": "execute_result"
    }
   ],
   "source": [
    "A"
   ]
  },
  {
   "cell_type": "code",
   "execution_count": 24,
   "id": "56b53b52",
   "metadata": {},
   "outputs": [
    {
     "data": {
      "text/plain": [
       "10"
      ]
     },
     "execution_count": 24,
     "metadata": {},
     "output_type": "execute_result"
    }
   ],
   "source": [
    "A.index('gram')"
   ]
  },
  {
   "cell_type": "code",
   "execution_count": 25,
   "id": "83dfaa03",
   "metadata": {},
   "outputs": [
    {
     "data": {
      "text/plain": [
       "'PYTHON PROGRAMMIN LANGUAGE'"
      ]
     },
     "execution_count": 25,
     "metadata": {},
     "output_type": "execute_result"
    }
   ],
   "source": [
    "A.upper()"
   ]
  },
  {
   "cell_type": "code",
   "execution_count": 26,
   "id": "1459a10c",
   "metadata": {},
   "outputs": [
    {
     "data": {
      "text/plain": [
       "12"
      ]
     },
     "execution_count": 26,
     "metadata": {},
     "output_type": "execute_result"
    }
   ],
   "source": [
    "B.index(\"World\")"
   ]
  },
  {
   "cell_type": "code",
   "execution_count": 29,
   "id": "1d54e30d",
   "metadata": {},
   "outputs": [
    {
     "data": {
      "text/plain": [
       "'Python Programmin Language Best in Tho World'"
      ]
     },
     "execution_count": 29,
     "metadata": {},
     "output_type": "execute_result"
    }
   ],
   "source": [
    "A+\" \" +B"
   ]
  },
  {
   "cell_type": "code",
   "execution_count": 28,
   "id": "d88fa03c",
   "metadata": {},
   "outputs": [
    {
     "data": {
      "text/plain": [
       "'gram'"
      ]
     },
     "execution_count": 28,
     "metadata": {},
     "output_type": "execute_result"
    }
   ],
   "source": [
    "A[10:14]"
   ]
  },
  {
   "cell_type": "code",
   "execution_count": 30,
   "id": "d086bd41",
   "metadata": {},
   "outputs": [],
   "source": [
    "C=(A,B)"
   ]
  },
  {
   "cell_type": "code",
   "execution_count": 31,
   "id": "1ac5f567",
   "metadata": {},
   "outputs": [
    {
     "data": {
      "text/plain": [
       "('Python Programmin Language', 'Best in Tho World')"
      ]
     },
     "execution_count": 31,
     "metadata": {},
     "output_type": "execute_result"
    }
   ],
   "source": [
    "C"
   ]
  },
  {
   "cell_type": "code",
   "execution_count": 42,
   "id": "4f170031",
   "metadata": {},
   "outputs": [],
   "source": [
    "#problem numbner 12\n",
    "l=list(range(0,100,2))"
   ]
  },
  {
   "cell_type": "code",
   "execution_count": 43,
   "id": "f87a9531",
   "metadata": {},
   "outputs": [
    {
     "data": {
      "text/plain": [
       "50"
      ]
     },
     "execution_count": 43,
     "metadata": {},
     "output_type": "execute_result"
    }
   ],
   "source": [
    "len(l)"
   ]
  },
  {
   "cell_type": "raw",
   "id": "89a0d014",
   "metadata": {},
   "source": [
    "l.reverse()"
   ]
  },
  {
   "cell_type": "code",
   "execution_count": 44,
   "id": "32081a3c",
   "metadata": {},
   "outputs": [
    {
     "data": {
      "text/plain": [
       "[0,\n",
       " 2,\n",
       " 4,\n",
       " 6,\n",
       " 8,\n",
       " 10,\n",
       " 12,\n",
       " 14,\n",
       " 16,\n",
       " 18,\n",
       " 20,\n",
       " 22,\n",
       " 24,\n",
       " 26,\n",
       " 28,\n",
       " 30,\n",
       " 32,\n",
       " 34,\n",
       " 36,\n",
       " 38,\n",
       " 40,\n",
       " 42,\n",
       " 44,\n",
       " 46,\n",
       " 48,\n",
       " 50,\n",
       " 52,\n",
       " 54,\n",
       " 56,\n",
       " 58,\n",
       " 60,\n",
       " 62,\n",
       " 64,\n",
       " 66,\n",
       " 68,\n",
       " 70,\n",
       " 72,\n",
       " 74,\n",
       " 76,\n",
       " 78,\n",
       " 80,\n",
       " 82,\n",
       " 84,\n",
       " 86,\n",
       " 88,\n",
       " 90,\n",
       " 92,\n",
       " 94,\n",
       " 96,\n",
       " 98]"
      ]
     },
     "execution_count": 44,
     "metadata": {},
     "output_type": "execute_result"
    }
   ],
   "source": [
    "l"
   ]
  },
  {
   "cell_type": "code",
   "execution_count": 45,
   "id": "6dace568",
   "metadata": {},
   "outputs": [],
   "source": [
    "l.sort()"
   ]
  },
  {
   "cell_type": "code",
   "execution_count": 46,
   "id": "04c81610",
   "metadata": {},
   "outputs": [],
   "source": [
    "l.sort(reverse=True)"
   ]
  },
  {
   "cell_type": "code",
   "execution_count": 41,
   "id": "9f081463",
   "metadata": {},
   "outputs": [
    {
     "data": {
      "text/plain": [
       "[48,\n",
       " 46,\n",
       " 44,\n",
       " 42,\n",
       " 40,\n",
       " 38,\n",
       " 36,\n",
       " 34,\n",
       " 32,\n",
       " 30,\n",
       " 28,\n",
       " 26,\n",
       " 24,\n",
       " 22,\n",
       " 20,\n",
       " 18,\n",
       " 16,\n",
       " 14,\n",
       " 12,\n",
       " 10,\n",
       " 8,\n",
       " 6,\n",
       " 4,\n",
       " 2,\n",
       " 0]"
      ]
     },
     "execution_count": 41,
     "metadata": {},
     "output_type": "execute_result"
    }
   ],
   "source": [
    "l"
   ]
  },
  {
   "cell_type": "code",
   "execution_count": 48,
   "id": "804cb000",
   "metadata": {},
   "outputs": [],
   "source": [
    "new_l=[]\n",
    "for i in l :\n",
    "    new_l.append(i**2)"
   ]
  },
  {
   "cell_type": "code",
   "execution_count": 49,
   "id": "15e15454",
   "metadata": {},
   "outputs": [
    {
     "data": {
      "text/plain": [
       "[9604,\n",
       " 9216,\n",
       " 8836,\n",
       " 8464,\n",
       " 8100,\n",
       " 7744,\n",
       " 7396,\n",
       " 7056,\n",
       " 6724,\n",
       " 6400,\n",
       " 6084,\n",
       " 5776,\n",
       " 5476,\n",
       " 5184,\n",
       " 4900,\n",
       " 4624,\n",
       " 4356,\n",
       " 4096,\n",
       " 3844,\n",
       " 3600,\n",
       " 3364,\n",
       " 3136,\n",
       " 2916,\n",
       " 2704,\n",
       " 2500,\n",
       " 2304,\n",
       " 2116,\n",
       " 1936,\n",
       " 1764,\n",
       " 1600,\n",
       " 1444,\n",
       " 1296,\n",
       " 1156,\n",
       " 1024,\n",
       " 900,\n",
       " 784,\n",
       " 676,\n",
       " 576,\n",
       " 484,\n",
       " 400,\n",
       " 324,\n",
       " 256,\n",
       " 196,\n",
       " 144,\n",
       " 100,\n",
       " 64,\n",
       " 36,\n",
       " 16,\n",
       " 4,\n",
       " 0]"
      ]
     },
     "execution_count": 49,
     "metadata": {},
     "output_type": "execute_result"
    }
   ],
   "source": [
    "new_l"
   ]
  },
  {
   "cell_type": "code",
   "execution_count": 55,
   "id": "d2973554",
   "metadata": {},
   "outputs": [],
   "source": [
    "c=0\n",
    "for i in range(1,100000):\n",
    "    if i%2==0:\n",
    "        c=c+1\n",
    "        if c>=50:\n",
    "            break"
   ]
  },
  {
   "cell_type": "code",
   "execution_count": 56,
   "id": "ed27341e",
   "metadata": {},
   "outputs": [
    {
     "data": {
      "text/plain": [
       "50"
      ]
     },
     "execution_count": 56,
     "metadata": {},
     "output_type": "execute_result"
    }
   ],
   "source": [
    "c"
   ]
  },
  {
   "cell_type": "code",
   "execution_count": 1,
   "id": "f7a46e8f",
   "metadata": {},
   "outputs": [
    {
     "name": "stdout",
     "output_type": "stream",
     "text": [
      "armstrong\n"
     ]
    }
   ],
   "source": [
    "#armstrang number 1^3+3^3+5^3=153\n",
    "n='153'\n",
    "s=0\n",
    "for digit in n:\n",
    "    cube=(int(digit)**3)\n",
    "    s=s+cube\n",
    "if(n==str(s)):\n",
    "    print('armstrong')\n",
    "else:\n",
    "    print('not armstrang')"
   ]
  },
  {
   "cell_type": "code",
   "execution_count": 2,
   "id": "02a37f13",
   "metadata": {},
   "outputs": [],
   "source": [
    "def check_armstrang(n):\n",
    "    s=0\n",
    "    for digit in n:\n",
    "        cube=(int(digit)**3)\n",
    "        s=s+cube\n",
    "    if n==str(s):\n",
    "        return 1\n",
    "        print('1')\n",
    "    else:\n",
    "        return 0\n",
    "        print('0')"
   ]
  },
  {
   "cell_type": "code",
   "execution_count": 3,
   "id": "50cd046f",
   "metadata": {},
   "outputs": [
    {
     "name": "stdout",
     "output_type": "stream",
     "text": [
      "1254\n"
     ]
    }
   ],
   "source": [
    "result=check_armstrang(input())"
   ]
  },
  {
   "cell_type": "code",
   "execution_count": 4,
   "id": "1be9d08b",
   "metadata": {},
   "outputs": [
    {
     "name": "stdout",
     "output_type": "stream",
     "text": [
      "1\n",
      "153\n",
      "370\n",
      "371\n",
      "407\n"
     ]
    }
   ],
   "source": [
    "c=0\n",
    "for i in range(1,100000000):\n",
    "    result=check_armstrang(str(i))\n",
    "    if result==1:\n",
    "        print(i)\n",
    "        c=c+1\n",
    "        if(c>=5):\n",
    "            break"
   ]
  },
  {
   "cell_type": "code",
   "execution_count": 4,
   "id": "7bfeeb44",
   "metadata": {},
   "outputs": [
    {
     "name": "stdout",
     "output_type": "stream",
     "text": [
      "0 1 1 2 3 5 8 13 "
     ]
    }
   ],
   "source": [
    "#fibonnaci series\n",
    "a=-1\n",
    "b=1\n",
    "\n",
    "for i in range(8):\n",
    "    c=a+b\n",
    "    print(c,end=' ')\n",
    "    a=b\n",
    "    b=c"
   ]
  },
  {
   "cell_type": "code",
   "execution_count": null,
   "id": "f1bcaff6",
   "metadata": {},
   "outputs": [],
   "source": [
    "list1=[1,2,3]               1D\n",
    "nested_list1=[[1],[2],[3]]  2D   "
   ]
  },
  {
   "cell_type": "code",
   "execution_count": 1,
   "id": "aeb1b020",
   "metadata": {},
   "outputs": [],
   "source": [
    "import demo "
   ]
  },
  {
   "cell_type": "code",
   "execution_count": 4,
   "id": "5c2efe73",
   "metadata": {},
   "outputs": [
    {
     "data": {
      "text/plain": [
       "52"
      ]
     },
     "execution_count": 4,
     "metadata": {},
     "output_type": "execute_result"
    }
   ],
   "source": [
    "demo.addition(2,50)"
   ]
  },
  {
   "cell_type": "markdown",
   "id": "ad02e04b",
   "metadata": {},
   "source": [
    "demo.subtraction(10,3)"
   ]
  },
  {
   "cell_type": "code",
   "execution_count": 5,
   "id": "51ae133a",
   "metadata": {},
   "outputs": [
    {
     "data": {
      "text/plain": [
       "7"
      ]
     },
     "execution_count": 5,
     "metadata": {},
     "output_type": "execute_result"
    }
   ],
   "source": [
    "demo.subtraction(10,3)"
   ]
  },
  {
   "cell_type": "code",
   "execution_count": 6,
   "id": "ce26755e",
   "metadata": {},
   "outputs": [
    {
     "data": {
      "text/plain": [
       "28"
      ]
     },
     "execution_count": 6,
     "metadata": {},
     "output_type": "execute_result"
    }
   ],
   "source": [
    "demo.multiplication(4,7)"
   ]
  },
  {
   "cell_type": "code",
   "execution_count": 7,
   "id": "185a1e44",
   "metadata": {},
   "outputs": [
    {
     "data": {
      "text/plain": [
       "5.0"
      ]
     },
     "execution_count": 7,
     "metadata": {},
     "output_type": "execute_result"
    }
   ],
   "source": [
    "demo.devision(20,4)"
   ]
  },
  {
   "cell_type": "code",
   "execution_count": 11,
   "id": "f8c957ac",
   "metadata": {},
   "outputs": [
    {
     "ename": "NameError",
     "evalue": "name 'dict1' is not defined",
     "output_type": "error",
     "traceback": [
      "\u001b[1;31m---------------------------------------------------------------------------\u001b[0m",
      "\u001b[1;31mNameError\u001b[0m                                 Traceback (most recent call last)",
      "\u001b[1;32m~\\AppData\\Local\\Temp\\ipykernel_11668\\644709213.py\u001b[0m in \u001b[0;36m<module>\u001b[1;34m\u001b[0m\n\u001b[0;32m      1\u001b[0m \u001b[0mdist1\u001b[0m\u001b[1;33m=\u001b[0m\u001b[1;33m{\u001b[0m\u001b[1;34m'girls'\u001b[0m\u001b[1;33m:\u001b[0m\u001b[1;33m{\u001b[0m\u001b[1;36m5\u001b[0m\u001b[1;33m,\u001b[0m\u001b[1;36m7\u001b[0m\u001b[1;33m,\u001b[0m\u001b[1;36m9\u001b[0m\u001b[1;33m}\u001b[0m\u001b[1;33m,\u001b[0m\u001b[1;34m'boys'\u001b[0m\u001b[1;33m:\u001b[0m\u001b[1;33m{\u001b[0m\u001b[1;36m6\u001b[0m\u001b[1;33m,\u001b[0m\u001b[1;36m4\u001b[0m\u001b[1;33m,\u001b[0m\u001b[1;36m8\u001b[0m\u001b[1;33m}\u001b[0m\u001b[1;33m}\u001b[0m\u001b[1;33m\u001b[0m\u001b[1;33m\u001b[0m\u001b[0m\n\u001b[1;32m----> 2\u001b[1;33m \u001b[0mdict1\u001b[0m\u001b[1;33m.\u001b[0m\u001b[0mitems\u001b[0m\u001b[1;33m(\u001b[0m\u001b[1;33m)\u001b[0m\u001b[1;33m\u001b[0m\u001b[1;33m\u001b[0m\u001b[0m\n\u001b[0m",
      "\u001b[1;31mNameError\u001b[0m: name 'dict1' is not defined"
     ]
    }
   ],
   "source": [
    "dist1={'girls':{5,7,9},'boys':{6,4,8}}\n",
    "dict1.items()"
   ]
  },
  {
   "cell_type": "code",
   "execution_count": null,
   "id": "c584a1ac",
   "metadata": {},
   "outputs": [],
   "source": []
  }
 ],
 "metadata": {
  "kernelspec": {
   "display_name": "Python 3 (ipykernel)",
   "language": "python",
   "name": "python3"
  },
  "language_info": {
   "codemirror_mode": {
    "name": "ipython",
    "version": 3
   },
   "file_extension": ".py",
   "mimetype": "text/x-python",
   "name": "python",
   "nbconvert_exporter": "python",
   "pygments_lexer": "ipython3",
   "version": "3.9.13"
  }
 },
 "nbformat": 4,
 "nbformat_minor": 5
}
